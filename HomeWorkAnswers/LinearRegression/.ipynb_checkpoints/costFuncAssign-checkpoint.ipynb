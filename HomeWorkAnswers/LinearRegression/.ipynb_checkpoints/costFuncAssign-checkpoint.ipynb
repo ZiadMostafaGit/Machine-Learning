{
 "cells": [
  {
   "cell_type": "code",
   "execution_count": 10,
   "id": "e60a859c-e0d1-4731-a151-bc52a30d61af",
   "metadata": {},
   "outputs": [
    {
     "name": "stdout",
     "output_type": "stream",
     "text": [
      "8.0\n",
      "[-4.   -1.92]\n"
     ]
    }
   ],
   "source": [
    "import numpy as np\n",
    "\n",
    "def costFunction(x, t, weight):\n",
    "    cost = 0\n",
    "    # the formula is 1/2n sum from 1 to n (y(x,w)-y)squared\n",
    "    for i in range(len(x)):\n",
    "        error = weight[0]\n",
    "        for j in range(1, len(x[0])):\n",
    "            error += x[i][j] * weight[j]\n",
    "        \n",
    "        error = t[i] - error\n",
    "        error = error ** 2\n",
    "        cost += error\n",
    "    cost = cost / len(x)\n",
    "    cost /= 2\n",
    "    return cost\n",
    "\n",
    "\n",
    "#1/n sum from i to n the error for each x with all its weights -t*x\n",
    "def caleDrivateve(x,t,weight):\n",
    "    newWeights=np.zeros_like(weight)\n",
    "    for i in range(len(weight)):\n",
    "        theNewWeight=0\n",
    "        for j in range(len(x)):\n",
    "            error=weight[0]\n",
    "            for k in range(1,len(x[0])):\n",
    "                error+=x[j][k]*weight[k]\n",
    "\n",
    "            error=error-t[j]\n",
    "            theNewWeight+=error*x[j][i]\n",
    "\n",
    "        theNewWeight/=len(x)\n",
    "        newWeights[i]=theNewWeight\n",
    "\n",
    "    return newWeights\n",
    "            \n",
    "\n",
    "X = np.array([0, 0.2, 0.4, 0.8, 1.0])\n",
    "t = 5 + X  # Output linear, no noise\n",
    "X = X.reshape((-1, 1))  # let's reshape in 2\n",
    "X = np.hstack([np.ones((X.shape[0], 1)), X])\n",
    "weight = np.array([1.0, 1.0])  \n",
    "cost = costFunction(X, t, weight)\n",
    "print(cost)\n",
    "print(caleDrivateve(X,t,weight))\n"
   ]
  },
  {
   "cell_type": "code",
   "execution_count": null,
   "id": "4df2129f-5b23-4c66-ac0f-b252df0f387c",
   "metadata": {},
   "outputs": [],
   "source": []
  }
 ],
 "metadata": {
  "kernelspec": {
   "display_name": "Python 3 (ipykernel)",
   "language": "python",
   "name": "python3"
  },
  "language_info": {
   "codemirror_mode": {
    "name": "ipython",
    "version": 3
   },
   "file_extension": ".py",
   "mimetype": "text/x-python",
   "name": "python",
   "nbconvert_exporter": "python",
   "pygments_lexer": "ipython3",
   "version": "3.12.3"
  }
 },
 "nbformat": 4,
 "nbformat_minor": 5
}
