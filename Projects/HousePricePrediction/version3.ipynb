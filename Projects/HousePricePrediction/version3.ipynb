{
 "cells": [
  {
   "cell_type": "code",
   "execution_count": 73,
   "id": "48d08cf4-95b3-4d9f-a6c2-572ef9be81b9",
   "metadata": {},
   "outputs": [],
   "source": [
    "import numpy as np\n",
    "import matplotlib.pyplot as plt\n",
    "import pandas as pd\n",
    "from sklearn.preprocessing import MinMaxScaler,PolynomialFeatures\n",
    "import seaborn as sns \n",
    "from sklearn.impute import SimpleImputer\n",
    "from sklearn.preprocessing import OneHotEncoder\n",
    "from sklearn.impute import SimpleImputer\n",
    "from sklearn.compose import ColumnTransformer\n",
    "from sklearn.pipeline import Pipeline\n",
    "from sklearn.model_selection import train_test_split\n",
    "from sklearn.linear_model import LinearRegression\n",
    "from sklearn.metrics import mean_squared_error, r2_score\n",
    "from sklearn.preprocessing import LabelEncoder\n",
    "from sklearn.model_selection import KFold,cross_val_score\n",
    "from sklearn.pipeline import make_pipeline\n",
    "\n"
   ]
  },
  {
   "cell_type": "code",
   "execution_count": 74,
   "id": "45b0e031-fea6-42cb-873e-816bdfcbacfb",
   "metadata": {},
   "outputs": [],
   "source": [
    "df=pd.read_csv(\"cleaned.csv\")"
   ]
  },
  {
   "cell_type": "code",
   "execution_count": 75,
   "id": "677e20ea-e9db-407e-8730-4f0cc4dcdc11",
   "metadata": {},
   "outputs": [],
   "source": [
    "Y=df[\"SalePrice\"]"
   ]
  },
  {
   "cell_type": "code",
   "execution_count": 76,
   "id": "065f4f57-c1b8-4484-b6b8-f5f3f9a02ed1",
   "metadata": {},
   "outputs": [],
   "source": [
    "X=df.drop(columns=\"SalePrice\")"
   ]
  },
  {
   "cell_type": "code",
   "execution_count": 77,
   "id": "726e0f81-c114-4c2f-8ee4-169e1fd75dda",
   "metadata": {},
   "outputs": [],
   "source": [
    "# Categorical=X.select_dtypes(include=\"object\").columns"
   ]
  },
  {
   "cell_type": "code",
   "execution_count": 78,
   "id": "1491fdcb-f8fc-4393-a692-0d172053aa96",
   "metadata": {},
   "outputs": [],
   "source": [
    "# le=LabelEncoder()"
   ]
  },
  {
   "cell_type": "code",
   "execution_count": 79,
   "id": "e5a47003-eb7a-4740-ba17-563ed7375c18",
   "metadata": {},
   "outputs": [],
   "source": [
    "\n",
    "# for col in Categorical:\n",
    "#     X[col] = le.fit_transform(X[col].astype(str))\n"
   ]
  },
  {
   "cell_type": "code",
   "execution_count": 80,
   "id": "b1f3c83e-f1a4-4298-b6f1-03fbd6c06b26",
   "metadata": {},
   "outputs": [],
   "source": [
    "# for col in X.columns:\n",
    "#     X[col]=X[col].fillna(X[col].mean())"
   ]
  },
  {
   "cell_type": "code",
   "execution_count": 81,
   "id": "fe886d5d-cc50-4e10-9a58-5fc3da2f3599",
   "metadata": {},
   "outputs": [],
   "source": [
    "kf=KFold(n_splits=5,shuffle=True,random_state=1)"
   ]
  },
  {
   "cell_type": "code",
   "execution_count": 92,
   "id": "bd0f76ec-83ed-4f35-af37-89a7694f0b5b",
   "metadata": {},
   "outputs": [],
   "source": [
    "pipeline=make_pipeline(MinMaxScaler(),PolynomialFeatures(1),LinearRegression(fit_intercept=True))"
   ]
  },
  {
   "cell_type": "code",
   "execution_count": 93,
   "id": "99e411f7-3add-4d0e-91d4-9bef15141bde",
   "metadata": {},
   "outputs": [],
   "source": [
    "# score=cross_val_score(pipeline,X,Y,cv=kf,scoring=\"neg_mean_squared_error\")"
   ]
  },
  {
   "cell_type": "code",
   "execution_count": 94,
   "id": "0cfc0786-a7f8-4f9b-ad22-68847c6763b8",
   "metadata": {},
   "outputs": [],
   "source": [
    "score=cross_val_score(pipeline,X,Y,cv=kf,scoring=\"r2\")"
   ]
  },
  {
   "cell_type": "code",
   "execution_count": 95,
   "id": "512a60b8-fb36-4303-a39a-e15c672cae88",
   "metadata": {},
   "outputs": [
    {
     "data": {
      "text/plain": [
       "array([0.79173841, 0.79371061, 0.86397112, 0.76293521, 0.87439567])"
      ]
     },
     "execution_count": 95,
     "metadata": {},
     "output_type": "execute_result"
    }
   ],
   "source": [
    "score"
   ]
  },
  {
   "cell_type": "code",
   "execution_count": 96,
   "id": "7ee466b3-13a6-4a4e-a1e4-b8d340c703ef",
   "metadata": {},
   "outputs": [
    {
     "name": "stdout",
     "output_type": "stream",
     "text": [
      "81.73502041132227\n"
     ]
    }
   ],
   "source": [
    "res=0\n",
    "for item in score:\n",
    "    res+=item*100\n",
    "\n",
    "res/=len(score)\n",
    "print(res)"
   ]
  },
  {
   "cell_type": "code",
   "execution_count": null,
   "id": "44226518-0bab-4e2d-ad00-65e6bb56a2d4",
   "metadata": {},
   "outputs": [],
   "source": []
  },
  {
   "cell_type": "code",
   "execution_count": null,
   "id": "a969afe8-8fc4-4933-b1c2-44f372f3fe14",
   "metadata": {},
   "outputs": [],
   "source": []
  }
 ],
 "metadata": {
  "kernelspec": {
   "display_name": "Python 3 (ipykernel)",
   "language": "python",
   "name": "python3"
  },
  "language_info": {
   "codemirror_mode": {
    "name": "ipython",
    "version": 3
   },
   "file_extension": ".py",
   "mimetype": "text/x-python",
   "name": "python",
   "nbconvert_exporter": "python",
   "pygments_lexer": "ipython3",
   "version": "3.12.1"
  }
 },
 "nbformat": 4,
 "nbformat_minor": 5
}
