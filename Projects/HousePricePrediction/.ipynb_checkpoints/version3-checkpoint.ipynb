{
 "cells": [
  {
   "cell_type": "code",
   "execution_count": 116,
   "id": "48d08cf4-95b3-4d9f-a6c2-572ef9be81b9",
   "metadata": {},
   "outputs": [],
   "source": [
    "import numpy as np\n",
    "import matplotlib.pyplot as plt\n",
    "import pandas as pd\n",
    "from sklearn.preprocessing import MinMaxScaler,PolynomialFeatures\n",
    "import seaborn as sns \n",
    "from sklearn.impute import SimpleImputer\n",
    "from sklearn.preprocessing import OneHotEncoder\n",
    "from sklearn.impute import SimpleImputer\n",
    "from sklearn.compose import ColumnTransformer\n",
    "from sklearn.pipeline import Pipeline\n",
    "from sklearn.model_selection import train_test_split\n",
    "from sklearn.linear_model import LinearRegression\n",
    "from sklearn.metrics import mean_squared_error, r2_score\n",
    "from sklearn.preprocessing import LabelEncoder\n",
    "from sklearn.model_selection import KFold,cross_val_score\n",
    "from sklearn.pipeline import make_pipeline\n",
    "\n"
   ]
  },
  {
   "cell_type": "code",
   "execution_count": 117,
   "id": "45b0e031-fea6-42cb-873e-816bdfcbacfb",
   "metadata": {},
   "outputs": [],
   "source": [
    "df=pd.read_csv(\"cleaned.csv\")"
   ]
  },
  {
   "cell_type": "code",
   "execution_count": 118,
   "id": "677e20ea-e9db-407e-8730-4f0cc4dcdc11",
   "metadata": {},
   "outputs": [],
   "source": [
    "Y=df[\"SalePrice\"]"
   ]
  },
  {
   "cell_type": "code",
   "execution_count": 119,
   "id": "065f4f57-c1b8-4484-b6b8-f5f3f9a02ed1",
   "metadata": {},
   "outputs": [],
   "source": [
    "X=df.drop(columns=\"SalePrice\")"
   ]
  },
  {
   "cell_type": "code",
   "execution_count": 120,
   "id": "a838d3f9-4ba0-40bc-97e7-9c60e46dae2b",
   "metadata": {},
   "outputs": [],
   "source": [
    "correlation_matrix = X.corr()\n"
   ]
  },
  {
   "cell_type": "code",
   "execution_count": 121,
   "id": "96c1ef09-abe0-455c-bac2-9fa782edc538",
   "metadata": {},
   "outputs": [],
   "source": [
    "#ast column is the target variable\n",
    "target_variable_name = X.columns[-1]\n",
    "\n",
    "# Get the correlation of each feature with the target variable\n",
    "correlation_with_target = correlation_matrix[target_variable_name].drop(target_variable_name)\n",
    "\n",
    "# Sort correlations by absolute value\n",
    "sorted_correlation_with_target = correlation_with_target.abs().sort_values(ascending=False)\n"
   ]
  },
  {
   "cell_type": "code",
   "execution_count": 122,
   "id": "1bb10109-0a4d-4b72-b3b3-c14862bee7f6",
   "metadata": {},
   "outputs": [],
   "source": [
    "\n",
    "# Select the top 10 most correlated features\n",
    "top_features = sorted_correlation_with_target.head(40).index"
   ]
  },
  {
   "cell_type": "code",
   "execution_count": 123,
   "id": "c67b57a3-dd7a-44d1-a551-b29678892bb7",
   "metadata": {},
   "outputs": [],
   "source": [
    "X=X[top_features]"
   ]
  },
  {
   "cell_type": "code",
   "execution_count": 124,
   "id": "ca55f233-13e2-4807-8787-7ee1d7ca6ffa",
   "metadata": {},
   "outputs": [
    {
     "name": "stdout",
     "output_type": "stream",
     "text": [
      "<class 'pandas.core.frame.DataFrame'>\n",
      "RangeIndex: 1460 entries, 0 to 1459\n",
      "Data columns (total 40 columns):\n",
      " #   Column         Non-Null Count  Dtype\n",
      "---  ------         --------------  -----\n",
      " 0   YearRemodAdd   1460 non-null   int64\n",
      " 1   YearBuilt      1460 non-null   int64\n",
      " 2   OverallQual    1460 non-null   int64\n",
      " 3   ExterQual      1460 non-null   int64\n",
      " 4   GarageCars     1460 non-null   int64\n",
      " 5   SaleType       1460 non-null   int64\n",
      " 6   GarageFinish   1460 non-null   int64\n",
      " 7   BsmtQual       1460 non-null   int64\n",
      " 8   HeatingQC      1460 non-null   int64\n",
      " 9   GarageArea     1460 non-null   int64\n",
      " 10  GarageYrBlt    1460 non-null   int64\n",
      " 11  FullBath       1460 non-null   int64\n",
      " 12  Foundation     1460 non-null   int64\n",
      " 13  GarageType     1460 non-null   int64\n",
      " 14  FireplaceQu    1460 non-null   int64\n",
      " 15  KitchenQual    1460 non-null   int64\n",
      " 16  TotalBsmtSF    1460 non-null   int64\n",
      " 17  Fireplaces     1460 non-null   int64\n",
      " 18  Electrical     1460 non-null   int64\n",
      " 19  Fence          1460 non-null   int64\n",
      " 20  GrLivArea      1460 non-null   int64\n",
      " 21  PoolQC         1460 non-null   int64\n",
      " 22  MasVnrArea     1460 non-null   int64\n",
      " 23  EnclosedPorch  1460 non-null   int64\n",
      " 24  1stFlrSF       1460 non-null   int64\n",
      " 25  OpenPorchSF    1460 non-null   int64\n",
      " 26  BsmtUnfSF      1460 non-null   int64\n",
      " 27  BsmtExposure   1460 non-null   int64\n",
      " 28  TotRmsAbvGrd   1460 non-null   int64\n",
      " 29  HalfBath       1460 non-null   int64\n",
      " 30  PavedDrive     1460 non-null   int64\n",
      " 31  CentralAir     1460 non-null   int64\n",
      " 32  LowQualFinSF   1460 non-null   int64\n",
      " 33  Exterior2nd    1460 non-null   int64\n",
      " 34  KitchenAbvGr   1460 non-null   int64\n",
      " 35  RoofStyle      1460 non-null   int64\n",
      " 36  Exterior1st    1460 non-null   int64\n",
      " 37  LotArea        1460 non-null   int64\n",
      " 38  PoolArea       1460 non-null   int64\n",
      " 39  WoodDeckSF     1460 non-null   int64\n",
      "dtypes: int64(40)\n",
      "memory usage: 456.4 KB\n"
     ]
    }
   ],
   "source": [
    "X.info()"
   ]
  },
  {
   "cell_type": "code",
   "execution_count": null,
   "id": "e9963934-b0cb-484a-90cf-45e95bb5498b",
   "metadata": {},
   "outputs": [],
   "source": []
  },
  {
   "cell_type": "code",
   "execution_count": 125,
   "id": "726e0f81-c114-4c2f-8ee4-169e1fd75dda",
   "metadata": {},
   "outputs": [],
   "source": [
    "# Categorical=X.select_dtypes(include=\"object\").columns"
   ]
  },
  {
   "cell_type": "code",
   "execution_count": 126,
   "id": "1491fdcb-f8fc-4393-a692-0d172053aa96",
   "metadata": {},
   "outputs": [],
   "source": [
    "# le=LabelEncoder()"
   ]
  },
  {
   "cell_type": "code",
   "execution_count": 127,
   "id": "e5a47003-eb7a-4740-ba17-563ed7375c18",
   "metadata": {},
   "outputs": [],
   "source": [
    "\n",
    "# for col in Categorical:\n",
    "#     X[col] = le.fit_transform(X[col].astype(str))\n"
   ]
  },
  {
   "cell_type": "code",
   "execution_count": 128,
   "id": "b1f3c83e-f1a4-4298-b6f1-03fbd6c06b26",
   "metadata": {},
   "outputs": [],
   "source": [
    "# for col in X.columns:\n",
    "#     X[col]=X[col].fillna(X[col].mean())"
   ]
  },
  {
   "cell_type": "code",
   "execution_count": 129,
   "id": "fe886d5d-cc50-4e10-9a58-5fc3da2f3599",
   "metadata": {},
   "outputs": [],
   "source": [
    "kf=KFold(n_splits=5,shuffle=True,random_state=1)"
   ]
  },
  {
   "cell_type": "code",
   "execution_count": 130,
   "id": "bd0f76ec-83ed-4f35-af37-89a7694f0b5b",
   "metadata": {},
   "outputs": [],
   "source": [
    "pipeline=make_pipeline(MinMaxScaler(),PolynomialFeatures(1),LinearRegression(fit_intercept=True))"
   ]
  },
  {
   "cell_type": "code",
   "execution_count": 131,
   "id": "99e411f7-3add-4d0e-91d4-9bef15141bde",
   "metadata": {},
   "outputs": [],
   "source": [
    "# score=cross_val_score(pipeline,X,Y,cv=kf,scoring=\"neg_mean_squared_error\")"
   ]
  },
  {
   "cell_type": "code",
   "execution_count": 132,
   "id": "0cfc0786-a7f8-4f9b-ad22-68847c6763b8",
   "metadata": {},
   "outputs": [],
   "source": [
    "score=cross_val_score(pipeline,X,Y,cv=kf,scoring=\"r2\")"
   ]
  },
  {
   "cell_type": "code",
   "execution_count": 133,
   "id": "512a60b8-fb36-4303-a39a-e15c672cae88",
   "metadata": {},
   "outputs": [
    {
     "data": {
      "text/plain": [
       "array([0.78040541, 0.78571742, 0.85063317, 0.74130675, 0.86363297])"
      ]
     },
     "execution_count": 133,
     "metadata": {},
     "output_type": "execute_result"
    }
   ],
   "source": [
    "score"
   ]
  },
  {
   "cell_type": "code",
   "execution_count": 134,
   "id": "7ee466b3-13a6-4a4e-a1e4-b8d340c703ef",
   "metadata": {},
   "outputs": [
    {
     "name": "stdout",
     "output_type": "stream",
     "text": [
      "80.43391430336129\n"
     ]
    }
   ],
   "source": [
    "res=0\n",
    "for item in score:\n",
    "    res+=item*100\n",
    "\n",
    "res/=len(score)\n",
    "print(res)"
   ]
  },
  {
   "cell_type": "code",
   "execution_count": null,
   "id": "44226518-0bab-4e2d-ad00-65e6bb56a2d4",
   "metadata": {},
   "outputs": [],
   "source": []
  },
  {
   "cell_type": "code",
   "execution_count": null,
   "id": "a969afe8-8fc4-4933-b1c2-44f372f3fe14",
   "metadata": {},
   "outputs": [],
   "source": []
  }
 ],
 "metadata": {
  "kernelspec": {
   "display_name": "Python 3 (ipykernel)",
   "language": "python",
   "name": "python3"
  },
  "language_info": {
   "codemirror_mode": {
    "name": "ipython",
    "version": 3
   },
   "file_extension": ".py",
   "mimetype": "text/x-python",
   "name": "python",
   "nbconvert_exporter": "python",
   "pygments_lexer": "ipython3",
   "version": "3.12.4"
  }
 },
 "nbformat": 4,
 "nbformat_minor": 5
}
