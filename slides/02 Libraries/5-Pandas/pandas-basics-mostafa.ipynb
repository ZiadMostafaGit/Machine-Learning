{
 "cells": [
  {
   "cell_type": "code",
   "execution_count": 1,
   "id": "c4a8c9b6",
   "metadata": {},
   "outputs": [],
   "source": [
    "import numpy as np\n",
    "import pandas as pd\n",
    "import matplotlib.pyplot as plt\n",
    "%matplotlib inline"
   ]
  },
  {
   "cell_type": "code",
   "execution_count": 2,
   "id": "8aa18a27",
   "metadata": {},
   "outputs": [
    {
     "data": {
      "text/plain": [
       "(19, 5)"
      ]
     },
     "execution_count": 2,
     "metadata": {},
     "output_type": "execute_result"
    }
   ],
   "source": [
    "df = pd.read_csv('sales.csv')\n",
    "df.shape       # rows x cols"
   ]
  },
  {
   "cell_type": "code",
   "execution_count": 3,
   "id": "d0480e9e",
   "metadata": {},
   "outputs": [
    {
     "data": {
      "text/html": [
       "<div>\n",
       "<style scoped>\n",
       "    .dataframe tbody tr th:only-of-type {\n",
       "        vertical-align: middle;\n",
       "    }\n",
       "\n",
       "    .dataframe tbody tr th {\n",
       "        vertical-align: top;\n",
       "    }\n",
       "\n",
       "    .dataframe thead th {\n",
       "        text-align: right;\n",
       "    }\n",
       "</style>\n",
       "<table border=\"1\" class=\"dataframe\">\n",
       "  <thead>\n",
       "    <tr style=\"text-align: right;\">\n",
       "      <th></th>\n",
       "      <th>Transaction Date</th>\n",
       "      <th>Segment</th>\n",
       "      <th>Product Name</th>\n",
       "      <th>Sales</th>\n",
       "      <th>Profit</th>\n",
       "    </tr>\n",
       "  </thead>\n",
       "  <tbody>\n",
       "    <tr>\n",
       "      <th>0</th>\n",
       "      <td>2/8/2022</td>\n",
       "      <td>Consumer</td>\n",
       "      <td>Laptop</td>\n",
       "      <td>12.0</td>\n",
       "      <td>2.0</td>\n",
       "    </tr>\n",
       "    <tr>\n",
       "      <th>1</th>\n",
       "      <td>2/11/2022</td>\n",
       "      <td>Consumer</td>\n",
       "      <td>Keyboard</td>\n",
       "      <td>7.0</td>\n",
       "      <td>5.0</td>\n",
       "    </tr>\n",
       "    <tr>\n",
       "      <th>2</th>\n",
       "      <td>3/3/2022</td>\n",
       "      <td>Corporate</td>\n",
       "      <td>Mouse</td>\n",
       "      <td>13.0</td>\n",
       "      <td>0.0</td>\n",
       "    </tr>\n",
       "    <tr>\n",
       "      <th>3</th>\n",
       "      <td>3/8/2022</td>\n",
       "      <td>Consumer</td>\n",
       "      <td>Keyboard</td>\n",
       "      <td>60.0</td>\n",
       "      <td>5.0</td>\n",
       "    </tr>\n",
       "    <tr>\n",
       "      <th>4</th>\n",
       "      <td>4/2/2022</td>\n",
       "      <td>Corporate</td>\n",
       "      <td>Laptop</td>\n",
       "      <td>10.0</td>\n",
       "      <td>NaN</td>\n",
       "    </tr>\n",
       "  </tbody>\n",
       "</table>\n",
       "</div>"
      ],
      "text/plain": [
       "  Transaction Date    Segment Product Name  Sales  Profit\n",
       "0         2/8/2022   Consumer       Laptop   12.0     2.0\n",
       "1        2/11/2022   Consumer     Keyboard    7.0     5.0\n",
       "2         3/3/2022  Corporate        Mouse   13.0     0.0\n",
       "3         3/8/2022   Consumer     Keyboard   60.0     5.0\n",
       "4         4/2/2022  Corporate       Laptop   10.0     NaN"
      ]
     },
     "execution_count": 3,
     "metadata": {},
     "output_type": "execute_result"
    }
   ],
   "source": [
    "df.head()   # default 5 rows or use df.head(rows)"
   ]
  },
  {
   "cell_type": "code",
   "execution_count": 4,
   "id": "ded7039b",
   "metadata": {},
   "outputs": [
    {
     "data": {
      "text/html": [
       "<div>\n",
       "<style scoped>\n",
       "    .dataframe tbody tr th:only-of-type {\n",
       "        vertical-align: middle;\n",
       "    }\n",
       "\n",
       "    .dataframe tbody tr th {\n",
       "        vertical-align: top;\n",
       "    }\n",
       "\n",
       "    .dataframe thead th {\n",
       "        text-align: right;\n",
       "    }\n",
       "</style>\n",
       "<table border=\"1\" class=\"dataframe\">\n",
       "  <thead>\n",
       "    <tr style=\"text-align: right;\">\n",
       "      <th></th>\n",
       "      <th>Transaction Date</th>\n",
       "      <th>Segment</th>\n",
       "      <th>Product Name</th>\n",
       "      <th>Sales</th>\n",
       "      <th>Profit</th>\n",
       "    </tr>\n",
       "  </thead>\n",
       "  <tbody>\n",
       "    <tr>\n",
       "      <th>14</th>\n",
       "      <td>9/3/2022</td>\n",
       "      <td>Corporate</td>\n",
       "      <td>Keyboard</td>\n",
       "      <td>7.0</td>\n",
       "      <td>2.0</td>\n",
       "    </tr>\n",
       "    <tr>\n",
       "      <th>15</th>\n",
       "      <td>9/3/2022</td>\n",
       "      <td>Consumer</td>\n",
       "      <td>Laptop</td>\n",
       "      <td>8.0</td>\n",
       "      <td>NaN</td>\n",
       "    </tr>\n",
       "    <tr>\n",
       "      <th>16</th>\n",
       "      <td>10/1/2022</td>\n",
       "      <td>Corporate</td>\n",
       "      <td>Camera</td>\n",
       "      <td>4.0</td>\n",
       "      <td>0.0</td>\n",
       "    </tr>\n",
       "    <tr>\n",
       "      <th>17</th>\n",
       "      <td>11/12/2022</td>\n",
       "      <td>Consumer</td>\n",
       "      <td>Mic</td>\n",
       "      <td>2.0</td>\n",
       "      <td>-1.0</td>\n",
       "    </tr>\n",
       "    <tr>\n",
       "      <th>18</th>\n",
       "      <td>5/3/2022</td>\n",
       "      <td>Corporate</td>\n",
       "      <td>Camera</td>\n",
       "      <td>4.0</td>\n",
       "      <td>0.0</td>\n",
       "    </tr>\n",
       "  </tbody>\n",
       "</table>\n",
       "</div>"
      ],
      "text/plain": [
       "   Transaction Date    Segment Product Name  Sales  Profit\n",
       "14         9/3/2022  Corporate     Keyboard    7.0     2.0\n",
       "15         9/3/2022   Consumer       Laptop    8.0     NaN\n",
       "16        10/1/2022  Corporate       Camera    4.0     0.0\n",
       "17       11/12/2022   Consumer          Mic    2.0    -1.0\n",
       "18         5/3/2022  Corporate       Camera    4.0     0.0"
      ]
     },
     "execution_count": 4,
     "metadata": {},
     "output_type": "execute_result"
    }
   ],
   "source": [
    "df.tail()"
   ]
  },
  {
   "cell_type": "code",
   "execution_count": 5,
   "id": "96272c5b",
   "metadata": {},
   "outputs": [
    {
     "data": {
      "text/plain": [
       "Index(['Transaction Date', 'Segment', 'Product Name', 'Sales', 'Profit'], dtype='object')"
      ]
     },
     "execution_count": 5,
     "metadata": {},
     "output_type": "execute_result"
    }
   ],
   "source": [
    "df.columns"
   ]
  },
  {
   "cell_type": "code",
   "execution_count": 6,
   "id": "b111de99",
   "metadata": {},
   "outputs": [
    {
     "name": "stdout",
     "output_type": "stream",
     "text": [
      "<class 'pandas.core.frame.DataFrame'>\n",
      "RangeIndex: 19 entries, 0 to 18\n",
      "Data columns (total 5 columns):\n",
      " #   Column            Non-Null Count  Dtype  \n",
      "---  ------            --------------  -----  \n",
      " 0   Transaction Date  19 non-null     object \n",
      " 1   Segment           19 non-null     object \n",
      " 2   Product Name      19 non-null     object \n",
      " 3   Sales             16 non-null     float64\n",
      " 4   Profit            17 non-null     float64\n",
      "dtypes: float64(2), object(3)\n",
      "memory usage: 888.0+ bytes\n"
     ]
    }
   ],
   "source": [
    "df.info()"
   ]
  },
  {
   "cell_type": "code",
   "execution_count": 7,
   "id": "e90df02d",
   "metadata": {},
   "outputs": [],
   "source": [
    "# convert date objects to use them later without errors\n",
    "df['Transaction Date'] = df['Transaction Date'].astype('datetime64[ns]')"
   ]
  },
  {
   "cell_type": "code",
   "execution_count": 8,
   "id": "7e387597",
   "metadata": {},
   "outputs": [
    {
     "data": {
      "text/html": [
       "<div>\n",
       "<style scoped>\n",
       "    .dataframe tbody tr th:only-of-type {\n",
       "        vertical-align: middle;\n",
       "    }\n",
       "\n",
       "    .dataframe tbody tr th {\n",
       "        vertical-align: top;\n",
       "    }\n",
       "\n",
       "    .dataframe thead th {\n",
       "        text-align: right;\n",
       "    }\n",
       "</style>\n",
       "<table border=\"1\" class=\"dataframe\">\n",
       "  <thead>\n",
       "    <tr style=\"text-align: right;\">\n",
       "      <th></th>\n",
       "      <th>Transaction Date</th>\n",
       "      <th>Segment</th>\n",
       "      <th>Product Name</th>\n",
       "      <th>Sales</th>\n",
       "      <th>Profit</th>\n",
       "    </tr>\n",
       "  </thead>\n",
       "  <tbody>\n",
       "    <tr>\n",
       "      <th>0</th>\n",
       "      <td>False</td>\n",
       "      <td>False</td>\n",
       "      <td>False</td>\n",
       "      <td>False</td>\n",
       "      <td>False</td>\n",
       "    </tr>\n",
       "    <tr>\n",
       "      <th>1</th>\n",
       "      <td>False</td>\n",
       "      <td>False</td>\n",
       "      <td>False</td>\n",
       "      <td>False</td>\n",
       "      <td>False</td>\n",
       "    </tr>\n",
       "    <tr>\n",
       "      <th>2</th>\n",
       "      <td>False</td>\n",
       "      <td>False</td>\n",
       "      <td>False</td>\n",
       "      <td>False</td>\n",
       "      <td>False</td>\n",
       "    </tr>\n",
       "    <tr>\n",
       "      <th>3</th>\n",
       "      <td>False</td>\n",
       "      <td>False</td>\n",
       "      <td>False</td>\n",
       "      <td>False</td>\n",
       "      <td>False</td>\n",
       "    </tr>\n",
       "    <tr>\n",
       "      <th>4</th>\n",
       "      <td>False</td>\n",
       "      <td>False</td>\n",
       "      <td>False</td>\n",
       "      <td>False</td>\n",
       "      <td>True</td>\n",
       "    </tr>\n",
       "    <tr>\n",
       "      <th>5</th>\n",
       "      <td>False</td>\n",
       "      <td>False</td>\n",
       "      <td>False</td>\n",
       "      <td>True</td>\n",
       "      <td>False</td>\n",
       "    </tr>\n",
       "    <tr>\n",
       "      <th>6</th>\n",
       "      <td>False</td>\n",
       "      <td>False</td>\n",
       "      <td>False</td>\n",
       "      <td>False</td>\n",
       "      <td>False</td>\n",
       "    </tr>\n",
       "    <tr>\n",
       "      <th>7</th>\n",
       "      <td>False</td>\n",
       "      <td>False</td>\n",
       "      <td>False</td>\n",
       "      <td>False</td>\n",
       "      <td>False</td>\n",
       "    </tr>\n",
       "    <tr>\n",
       "      <th>8</th>\n",
       "      <td>False</td>\n",
       "      <td>False</td>\n",
       "      <td>False</td>\n",
       "      <td>False</td>\n",
       "      <td>False</td>\n",
       "    </tr>\n",
       "    <tr>\n",
       "      <th>9</th>\n",
       "      <td>False</td>\n",
       "      <td>False</td>\n",
       "      <td>False</td>\n",
       "      <td>False</td>\n",
       "      <td>False</td>\n",
       "    </tr>\n",
       "    <tr>\n",
       "      <th>10</th>\n",
       "      <td>False</td>\n",
       "      <td>False</td>\n",
       "      <td>False</td>\n",
       "      <td>True</td>\n",
       "      <td>False</td>\n",
       "    </tr>\n",
       "    <tr>\n",
       "      <th>11</th>\n",
       "      <td>False</td>\n",
       "      <td>False</td>\n",
       "      <td>False</td>\n",
       "      <td>True</td>\n",
       "      <td>False</td>\n",
       "    </tr>\n",
       "    <tr>\n",
       "      <th>12</th>\n",
       "      <td>False</td>\n",
       "      <td>False</td>\n",
       "      <td>False</td>\n",
       "      <td>False</td>\n",
       "      <td>False</td>\n",
       "    </tr>\n",
       "    <tr>\n",
       "      <th>13</th>\n",
       "      <td>False</td>\n",
       "      <td>False</td>\n",
       "      <td>False</td>\n",
       "      <td>False</td>\n",
       "      <td>False</td>\n",
       "    </tr>\n",
       "    <tr>\n",
       "      <th>14</th>\n",
       "      <td>False</td>\n",
       "      <td>False</td>\n",
       "      <td>False</td>\n",
       "      <td>False</td>\n",
       "      <td>False</td>\n",
       "    </tr>\n",
       "    <tr>\n",
       "      <th>15</th>\n",
       "      <td>False</td>\n",
       "      <td>False</td>\n",
       "      <td>False</td>\n",
       "      <td>False</td>\n",
       "      <td>True</td>\n",
       "    </tr>\n",
       "    <tr>\n",
       "      <th>16</th>\n",
       "      <td>False</td>\n",
       "      <td>False</td>\n",
       "      <td>False</td>\n",
       "      <td>False</td>\n",
       "      <td>False</td>\n",
       "    </tr>\n",
       "    <tr>\n",
       "      <th>17</th>\n",
       "      <td>False</td>\n",
       "      <td>False</td>\n",
       "      <td>False</td>\n",
       "      <td>False</td>\n",
       "      <td>False</td>\n",
       "    </tr>\n",
       "    <tr>\n",
       "      <th>18</th>\n",
       "      <td>False</td>\n",
       "      <td>False</td>\n",
       "      <td>False</td>\n",
       "      <td>False</td>\n",
       "      <td>False</td>\n",
       "    </tr>\n",
       "  </tbody>\n",
       "</table>\n",
       "</div>"
      ],
      "text/plain": [
       "    Transaction Date  Segment  Product Name  Sales  Profit\n",
       "0              False    False         False  False   False\n",
       "1              False    False         False  False   False\n",
       "2              False    False         False  False   False\n",
       "3              False    False         False  False   False\n",
       "4              False    False         False  False    True\n",
       "5              False    False         False   True   False\n",
       "6              False    False         False  False   False\n",
       "7              False    False         False  False   False\n",
       "8              False    False         False  False   False\n",
       "9              False    False         False  False   False\n",
       "10             False    False         False   True   False\n",
       "11             False    False         False   True   False\n",
       "12             False    False         False  False   False\n",
       "13             False    False         False  False   False\n",
       "14             False    False         False  False   False\n",
       "15             False    False         False  False    True\n",
       "16             False    False         False  False   False\n",
       "17             False    False         False  False   False\n",
       "18             False    False         False  False   False"
      ]
     },
     "execution_count": 8,
     "metadata": {},
     "output_type": "execute_result"
    }
   ],
   "source": [
    "pd.options.display.max_columns = None  # show ALL columns (or rows) if you want in df.head to avoid ...\n",
    "pd.options.display.max_rows = 500\n",
    "df.isna()  # create a boolean table"
   ]
  },
  {
   "cell_type": "code",
   "execution_count": 9,
   "id": "e0d577ab",
   "metadata": {},
   "outputs": [
    {
     "data": {
      "text/plain": [
       "Transaction Date    0\n",
       "Segment             0\n",
       "Product Name        0\n",
       "Sales               3\n",
       "Profit              2\n",
       "dtype: int64"
      ]
     },
     "execution_count": 9,
     "metadata": {},
     "output_type": "execute_result"
    }
   ],
   "source": [
    "df.isna().sum()        # Sum every columns of na values. same as df.isnull().sum()"
   ]
  },
  {
   "cell_type": "code",
   "execution_count": 10,
   "id": "b6508a6b",
   "metadata": {},
   "outputs": [
    {
     "data": {
      "text/html": [
       "<div>\n",
       "<style scoped>\n",
       "    .dataframe tbody tr th:only-of-type {\n",
       "        vertical-align: middle;\n",
       "    }\n",
       "\n",
       "    .dataframe tbody tr th {\n",
       "        vertical-align: top;\n",
       "    }\n",
       "\n",
       "    .dataframe thead th {\n",
       "        text-align: right;\n",
       "    }\n",
       "</style>\n",
       "<table border=\"1\" class=\"dataframe\">\n",
       "  <thead>\n",
       "    <tr style=\"text-align: right;\">\n",
       "      <th></th>\n",
       "      <th>Sales</th>\n",
       "      <th>Profit</th>\n",
       "    </tr>\n",
       "  </thead>\n",
       "  <tbody>\n",
       "    <tr>\n",
       "      <th>count</th>\n",
       "      <td>16.000000</td>\n",
       "      <td>17.000000</td>\n",
       "    </tr>\n",
       "    <tr>\n",
       "      <th>mean</th>\n",
       "      <td>9.750000</td>\n",
       "      <td>0.058824</td>\n",
       "    </tr>\n",
       "    <tr>\n",
       "      <th>std</th>\n",
       "      <td>13.738025</td>\n",
       "      <td>3.191210</td>\n",
       "    </tr>\n",
       "    <tr>\n",
       "      <th>min</th>\n",
       "      <td>2.000000</td>\n",
       "      <td>-7.000000</td>\n",
       "    </tr>\n",
       "    <tr>\n",
       "      <th>25%</th>\n",
       "      <td>4.750000</td>\n",
       "      <td>0.000000</td>\n",
       "    </tr>\n",
       "    <tr>\n",
       "      <th>50%</th>\n",
       "      <td>5.000000</td>\n",
       "      <td>1.000000</td>\n",
       "    </tr>\n",
       "    <tr>\n",
       "      <th>75%</th>\n",
       "      <td>8.500000</td>\n",
       "      <td>1.000000</td>\n",
       "    </tr>\n",
       "    <tr>\n",
       "      <th>max</th>\n",
       "      <td>60.000000</td>\n",
       "      <td>5.000000</td>\n",
       "    </tr>\n",
       "  </tbody>\n",
       "</table>\n",
       "</div>"
      ],
      "text/plain": [
       "           Sales     Profit\n",
       "count  16.000000  17.000000\n",
       "mean    9.750000   0.058824\n",
       "std    13.738025   3.191210\n",
       "min     2.000000  -7.000000\n",
       "25%     4.750000   0.000000\n",
       "50%     5.000000   1.000000\n",
       "75%     8.500000   1.000000\n",
       "max    60.000000   5.000000"
      ]
     },
     "execution_count": 10,
     "metadata": {},
     "output_type": "execute_result"
    }
   ],
   "source": [
    "df.describe()      # stats per column for 19 rows"
   ]
  },
  {
   "cell_type": "code",
   "execution_count": 11,
   "id": "f27744e7",
   "metadata": {},
   "outputs": [
    {
     "data": {
      "text/html": [
       "<div>\n",
       "<style scoped>\n",
       "    .dataframe tbody tr th:only-of-type {\n",
       "        vertical-align: middle;\n",
       "    }\n",
       "\n",
       "    .dataframe tbody tr th {\n",
       "        vertical-align: top;\n",
       "    }\n",
       "\n",
       "    .dataframe thead th {\n",
       "        text-align: right;\n",
       "    }\n",
       "</style>\n",
       "<table border=\"1\" class=\"dataframe\">\n",
       "  <thead>\n",
       "    <tr style=\"text-align: right;\">\n",
       "      <th></th>\n",
       "      <th>count</th>\n",
       "      <th>mean</th>\n",
       "      <th>std</th>\n",
       "      <th>min</th>\n",
       "      <th>25%</th>\n",
       "      <th>50%</th>\n",
       "      <th>75%</th>\n",
       "      <th>max</th>\n",
       "    </tr>\n",
       "  </thead>\n",
       "  <tbody>\n",
       "    <tr>\n",
       "      <th>Sales</th>\n",
       "      <td>16.0</td>\n",
       "      <td>9.750000</td>\n",
       "      <td>13.738025</td>\n",
       "      <td>2.0</td>\n",
       "      <td>4.75</td>\n",
       "      <td>5.0</td>\n",
       "      <td>8.5</td>\n",
       "      <td>60.0</td>\n",
       "    </tr>\n",
       "    <tr>\n",
       "      <th>Profit</th>\n",
       "      <td>17.0</td>\n",
       "      <td>0.058824</td>\n",
       "      <td>3.191210</td>\n",
       "      <td>-7.0</td>\n",
       "      <td>0.00</td>\n",
       "      <td>1.0</td>\n",
       "      <td>1.0</td>\n",
       "      <td>5.0</td>\n",
       "    </tr>\n",
       "  </tbody>\n",
       "</table>\n",
       "</div>"
      ],
      "text/plain": [
       "        count      mean        std  min   25%  50%  75%   max\n",
       "Sales    16.0  9.750000  13.738025  2.0  4.75  5.0  8.5  60.0\n",
       "Profit   17.0  0.058824   3.191210 -7.0  0.00  1.0  1.0   5.0"
      ]
     },
     "execution_count": 11,
     "metadata": {},
     "output_type": "execute_result"
    }
   ],
   "source": [
    "df.describe().T"
   ]
  },
  {
   "cell_type": "code",
   "execution_count": 12,
   "id": "2319b7db",
   "metadata": {},
   "outputs": [
    {
     "data": {
      "text/plain": [
       "Index(['Sales', 'Profit'], dtype='object')"
      ]
     },
     "execution_count": 12,
     "metadata": {},
     "output_type": "execute_result"
    }
   ],
   "source": [
    "df.select_dtypes(\"number\").columns"
   ]
  },
  {
   "cell_type": "code",
   "execution_count": 13,
   "id": "597b833c",
   "metadata": {},
   "outputs": [
    {
     "data": {
      "text/plain": [
       "Sales     3.682296\n",
       "Profit   -0.766682\n",
       "dtype: float64"
      ]
     },
     "execution_count": 13,
     "metadata": {},
     "output_type": "execute_result"
    }
   ],
   "source": [
    "# skewness is a measure of the asymmetry of the probability distribution\n",
    "# 0 = symmetry, -ve = left skewed and +ve right skewed\n",
    "df[df.select_dtypes(\"number\").columns].skew()"
   ]
  },
  {
   "cell_type": "code",
   "execution_count": 14,
   "id": "e50878fb",
   "metadata": {},
   "outputs": [
    {
     "data": {
      "text/plain": [
       "0     False\n",
       "1     False\n",
       "2     False\n",
       "3     False\n",
       "4     False\n",
       "5     False\n",
       "6     False\n",
       "7     False\n",
       "8      True\n",
       "9     False\n",
       "10    False\n",
       "11    False\n",
       "12    False\n",
       "13    False\n",
       "14    False\n",
       "15    False\n",
       "16    False\n",
       "17    False\n",
       "18     True\n",
       "dtype: bool"
      ]
     },
     "execution_count": 14,
     "metadata": {},
     "output_type": "execute_result"
    }
   ],
   "source": [
    "df.duplicated()   # check if the entire row is duplicated"
   ]
  },
  {
   "cell_type": "code",
   "execution_count": 15,
   "id": "0138a8e8",
   "metadata": {},
   "outputs": [
    {
     "data": {
      "text/plain": [
       "2"
      ]
     },
     "execution_count": 15,
     "metadata": {},
     "output_type": "execute_result"
    }
   ],
   "source": [
    "df.duplicated().sum()        "
   ]
  },
  {
   "cell_type": "code",
   "execution_count": 16,
   "id": "3ecfd5fd",
   "metadata": {},
   "outputs": [
    {
     "data": {
      "text/plain": [
       "0     12.0\n",
       "1      7.0\n",
       "2     13.0\n",
       "3     60.0\n",
       "4     10.0\n",
       "5      NaN\n",
       "6      5.0\n",
       "7      5.0\n",
       "8      5.0\n",
       "9      4.0\n",
       "10     NaN\n",
       "11     NaN\n",
       "12     5.0\n",
       "13     5.0\n",
       "14     7.0\n",
       "15     8.0\n",
       "16     4.0\n",
       "17     2.0\n",
       "18     4.0\n",
       "Name: Sales, dtype: float64"
      ]
     },
     "execution_count": 16,
     "metadata": {},
     "output_type": "execute_result"
    }
   ],
   "source": [
    "# Access column\n",
    "df['Sales']"
   ]
  },
  {
   "cell_type": "code",
   "execution_count": 17,
   "id": "1fc30205",
   "metadata": {},
   "outputs": [
    {
     "data": {
      "text/plain": [
       "Transaction Date    2022-02-11 00:00:00\n",
       "Segment                        Consumer\n",
       "Product Name                   Keyboard\n",
       "Sales                               7.0\n",
       "Profit                              5.0\n",
       "Name: 1, dtype: object"
      ]
     },
     "execution_count": 17,
     "metadata": {},
     "output_type": "execute_result"
    }
   ],
   "source": [
    "# Access row idx = 1\n",
    "df.loc[1]"
   ]
  },
  {
   "cell_type": "code",
   "execution_count": 18,
   "id": "500a0cf2",
   "metadata": {},
   "outputs": [
    {
     "data": {
      "text/plain": [
       "Index(['Segment', 'Product Name'], dtype='object')"
      ]
     },
     "execution_count": 18,
     "metadata": {},
     "output_type": "execute_result"
    }
   ],
   "source": [
    "df.select_dtypes(\"object\").columns   # elegant than below"
   ]
  },
  {
   "cell_type": "code",
   "execution_count": 19,
   "id": "71801764",
   "metadata": {},
   "outputs": [
    {
     "data": {
      "text/plain": [
       "[dtype('<M8[ns]'), dtype('O'), dtype('O'), dtype('float64'), dtype('float64')]"
      ]
     },
     "execution_count": 19,
     "metadata": {},
     "output_type": "execute_result"
    }
   ],
   "source": [
    "[df[f].dtype for f in df.columns]         # 'O'     (Python) objects"
   ]
  },
  {
   "cell_type": "code",
   "execution_count": 20,
   "id": "56acdccc",
   "metadata": {},
   "outputs": [
    {
     "data": {
      "text/plain": [
       "Index(['Segment', 'Product Name'], dtype='object')"
      ]
     },
     "execution_count": 20,
     "metadata": {},
     "output_type": "execute_result"
    }
   ],
   "source": [
    "cat_features = df.select_dtypes(\"object\").columns\n",
    "df_cat = df[cat_features]\n",
    "cat_features"
   ]
  },
  {
   "cell_type": "code",
   "execution_count": 21,
   "id": "a73cce8d",
   "metadata": {},
   "outputs": [
    {
     "data": {
      "text/html": [
       "<div>\n",
       "<style scoped>\n",
       "    .dataframe tbody tr th:only-of-type {\n",
       "        vertical-align: middle;\n",
       "    }\n",
       "\n",
       "    .dataframe tbody tr th {\n",
       "        vertical-align: top;\n",
       "    }\n",
       "\n",
       "    .dataframe thead th {\n",
       "        text-align: right;\n",
       "    }\n",
       "</style>\n",
       "<table border=\"1\" class=\"dataframe\">\n",
       "  <thead>\n",
       "    <tr style=\"text-align: right;\">\n",
       "      <th></th>\n",
       "      <th>Segment</th>\n",
       "      <th>Product Name</th>\n",
       "    </tr>\n",
       "  </thead>\n",
       "  <tbody>\n",
       "    <tr>\n",
       "      <th>0</th>\n",
       "      <td>Consumer</td>\n",
       "      <td>Laptop</td>\n",
       "    </tr>\n",
       "    <tr>\n",
       "      <th>1</th>\n",
       "      <td>Consumer</td>\n",
       "      <td>Keyboard</td>\n",
       "    </tr>\n",
       "    <tr>\n",
       "      <th>2</th>\n",
       "      <td>Corporate</td>\n",
       "      <td>Mouse</td>\n",
       "    </tr>\n",
       "    <tr>\n",
       "      <th>3</th>\n",
       "      <td>Consumer</td>\n",
       "      <td>Keyboard</td>\n",
       "    </tr>\n",
       "    <tr>\n",
       "      <th>4</th>\n",
       "      <td>Corporate</td>\n",
       "      <td>Laptop</td>\n",
       "    </tr>\n",
       "    <tr>\n",
       "      <th>5</th>\n",
       "      <td>Consumer</td>\n",
       "      <td>Mic</td>\n",
       "    </tr>\n",
       "    <tr>\n",
       "      <th>6</th>\n",
       "      <td>Consumer</td>\n",
       "      <td>Laptop</td>\n",
       "    </tr>\n",
       "    <tr>\n",
       "      <th>7</th>\n",
       "      <td>Corporate</td>\n",
       "      <td>Camera</td>\n",
       "    </tr>\n",
       "    <tr>\n",
       "      <th>8</th>\n",
       "      <td>Corporate</td>\n",
       "      <td>Camera</td>\n",
       "    </tr>\n",
       "    <tr>\n",
       "      <th>9</th>\n",
       "      <td>Corporate</td>\n",
       "      <td>Camera</td>\n",
       "    </tr>\n",
       "    <tr>\n",
       "      <th>10</th>\n",
       "      <td>Consumer</td>\n",
       "      <td>Camera</td>\n",
       "    </tr>\n",
       "    <tr>\n",
       "      <th>11</th>\n",
       "      <td>Consumer</td>\n",
       "      <td>Mic</td>\n",
       "    </tr>\n",
       "    <tr>\n",
       "      <th>12</th>\n",
       "      <td>Consumer</td>\n",
       "      <td>Camera</td>\n",
       "    </tr>\n",
       "    <tr>\n",
       "      <th>13</th>\n",
       "      <td>Corporate</td>\n",
       "      <td>Camera</td>\n",
       "    </tr>\n",
       "    <tr>\n",
       "      <th>14</th>\n",
       "      <td>Corporate</td>\n",
       "      <td>Keyboard</td>\n",
       "    </tr>\n",
       "    <tr>\n",
       "      <th>15</th>\n",
       "      <td>Consumer</td>\n",
       "      <td>Laptop</td>\n",
       "    </tr>\n",
       "    <tr>\n",
       "      <th>16</th>\n",
       "      <td>Corporate</td>\n",
       "      <td>Camera</td>\n",
       "    </tr>\n",
       "    <tr>\n",
       "      <th>17</th>\n",
       "      <td>Consumer</td>\n",
       "      <td>Mic</td>\n",
       "    </tr>\n",
       "    <tr>\n",
       "      <th>18</th>\n",
       "      <td>Corporate</td>\n",
       "      <td>Camera</td>\n",
       "    </tr>\n",
       "  </tbody>\n",
       "</table>\n",
       "</div>"
      ],
      "text/plain": [
       "      Segment Product Name\n",
       "0    Consumer       Laptop\n",
       "1    Consumer     Keyboard\n",
       "2   Corporate        Mouse\n",
       "3    Consumer     Keyboard\n",
       "4   Corporate       Laptop\n",
       "5    Consumer          Mic\n",
       "6    Consumer       Laptop\n",
       "7   Corporate       Camera\n",
       "8   Corporate       Camera\n",
       "9   Corporate       Camera\n",
       "10   Consumer       Camera\n",
       "11   Consumer          Mic\n",
       "12   Consumer       Camera\n",
       "13  Corporate       Camera\n",
       "14  Corporate     Keyboard\n",
       "15   Consumer       Laptop\n",
       "16  Corporate       Camera\n",
       "17   Consumer          Mic\n",
       "18  Corporate       Camera"
      ]
     },
     "execution_count": 21,
     "metadata": {},
     "output_type": "execute_result"
    }
   ],
   "source": [
    "df_cat"
   ]
  },
  {
   "cell_type": "code",
   "execution_count": 22,
   "id": "706e484a",
   "metadata": {},
   "outputs": [
    {
     "name": "stdout",
     "output_type": "stream",
     "text": [
      "Segment : 2\n",
      "Product Name : 5\n"
     ]
    }
   ],
   "source": [
    "# shown the number of unique values in categorical data\n",
    "for feature in df_cat:\n",
    "    print(feature,':',df[feature].nunique())   # # unique values per column"
   ]
  },
  {
   "cell_type": "code",
   "execution_count": 23,
   "id": "5f42137f",
   "metadata": {},
   "outputs": [
    {
     "data": {
      "text/plain": [
       "0      True\n",
       "1      True\n",
       "2     False\n",
       "3      True\n",
       "4     False\n",
       "5      True\n",
       "6      True\n",
       "7     False\n",
       "8     False\n",
       "9     False\n",
       "10     True\n",
       "11     True\n",
       "12     True\n",
       "13    False\n",
       "14    False\n",
       "15     True\n",
       "16    False\n",
       "17     True\n",
       "18    False\n",
       "Name: Segment, dtype: bool"
      ]
     },
     "execution_count": 23,
     "metadata": {},
     "output_type": "execute_result"
    }
   ],
   "source": [
    "# Filter rows\n",
    "idx = df['Segment'] == 'Consumer'\n",
    "idx"
   ]
  },
  {
   "cell_type": "code",
   "execution_count": 24,
   "id": "edb4936a",
   "metadata": {},
   "outputs": [
    {
     "data": {
      "text/html": [
       "<div>\n",
       "<style scoped>\n",
       "    .dataframe tbody tr th:only-of-type {\n",
       "        vertical-align: middle;\n",
       "    }\n",
       "\n",
       "    .dataframe tbody tr th {\n",
       "        vertical-align: top;\n",
       "    }\n",
       "\n",
       "    .dataframe thead th {\n",
       "        text-align: right;\n",
       "    }\n",
       "</style>\n",
       "<table border=\"1\" class=\"dataframe\">\n",
       "  <thead>\n",
       "    <tr style=\"text-align: right;\">\n",
       "      <th></th>\n",
       "      <th>Transaction Date</th>\n",
       "      <th>Segment</th>\n",
       "      <th>Product Name</th>\n",
       "      <th>Sales</th>\n",
       "      <th>Profit</th>\n",
       "    </tr>\n",
       "  </thead>\n",
       "  <tbody>\n",
       "    <tr>\n",
       "      <th>0</th>\n",
       "      <td>2022-02-08</td>\n",
       "      <td>Consumer</td>\n",
       "      <td>Laptop</td>\n",
       "      <td>12.0</td>\n",
       "      <td>2.0</td>\n",
       "    </tr>\n",
       "    <tr>\n",
       "      <th>1</th>\n",
       "      <td>2022-02-11</td>\n",
       "      <td>Consumer</td>\n",
       "      <td>Keyboard</td>\n",
       "      <td>7.0</td>\n",
       "      <td>5.0</td>\n",
       "    </tr>\n",
       "    <tr>\n",
       "      <th>3</th>\n",
       "      <td>2022-03-08</td>\n",
       "      <td>Consumer</td>\n",
       "      <td>Keyboard</td>\n",
       "      <td>60.0</td>\n",
       "      <td>5.0</td>\n",
       "    </tr>\n",
       "    <tr>\n",
       "      <th>5</th>\n",
       "      <td>2022-04-02</td>\n",
       "      <td>Consumer</td>\n",
       "      <td>Mic</td>\n",
       "      <td>NaN</td>\n",
       "      <td>-5.0</td>\n",
       "    </tr>\n",
       "    <tr>\n",
       "      <th>6</th>\n",
       "      <td>2022-04-08</td>\n",
       "      <td>Consumer</td>\n",
       "      <td>Laptop</td>\n",
       "      <td>5.0</td>\n",
       "      <td>1.0</td>\n",
       "    </tr>\n",
       "    <tr>\n",
       "      <th>10</th>\n",
       "      <td>2022-06-08</td>\n",
       "      <td>Consumer</td>\n",
       "      <td>Camera</td>\n",
       "      <td>NaN</td>\n",
       "      <td>-5.0</td>\n",
       "    </tr>\n",
       "    <tr>\n",
       "      <th>11</th>\n",
       "      <td>2022-06-13</td>\n",
       "      <td>Consumer</td>\n",
       "      <td>Mic</td>\n",
       "      <td>NaN</td>\n",
       "      <td>-7.0</td>\n",
       "    </tr>\n",
       "    <tr>\n",
       "      <th>12</th>\n",
       "      <td>2022-06-17</td>\n",
       "      <td>Consumer</td>\n",
       "      <td>Camera</td>\n",
       "      <td>5.0</td>\n",
       "      <td>1.0</td>\n",
       "    </tr>\n",
       "    <tr>\n",
       "      <th>15</th>\n",
       "      <td>2022-09-03</td>\n",
       "      <td>Consumer</td>\n",
       "      <td>Laptop</td>\n",
       "      <td>8.0</td>\n",
       "      <td>NaN</td>\n",
       "    </tr>\n",
       "    <tr>\n",
       "      <th>17</th>\n",
       "      <td>2022-11-12</td>\n",
       "      <td>Consumer</td>\n",
       "      <td>Mic</td>\n",
       "      <td>2.0</td>\n",
       "      <td>-1.0</td>\n",
       "    </tr>\n",
       "  </tbody>\n",
       "</table>\n",
       "</div>"
      ],
      "text/plain": [
       "   Transaction Date   Segment Product Name  Sales  Profit\n",
       "0        2022-02-08  Consumer       Laptop   12.0     2.0\n",
       "1        2022-02-11  Consumer     Keyboard    7.0     5.0\n",
       "3        2022-03-08  Consumer     Keyboard   60.0     5.0\n",
       "5        2022-04-02  Consumer          Mic    NaN    -5.0\n",
       "6        2022-04-08  Consumer       Laptop    5.0     1.0\n",
       "10       2022-06-08  Consumer       Camera    NaN    -5.0\n",
       "11       2022-06-13  Consumer          Mic    NaN    -7.0\n",
       "12       2022-06-17  Consumer       Camera    5.0     1.0\n",
       "15       2022-09-03  Consumer       Laptop    8.0     NaN\n",
       "17       2022-11-12  Consumer          Mic    2.0    -1.0"
      ]
     },
     "execution_count": 24,
     "metadata": {},
     "output_type": "execute_result"
    }
   ],
   "source": [
    "df_consumer = df[idx]\n",
    "#df_consumer = df[df['Segment'] == 'Consumer']    we typically merge the 2 steps\n",
    "df_consumer "
   ]
  },
  {
   "cell_type": "code",
   "execution_count": 25,
   "id": "789064f3",
   "metadata": {},
   "outputs": [
    {
     "data": {
      "text/html": [
       "<div>\n",
       "<style scoped>\n",
       "    .dataframe tbody tr th:only-of-type {\n",
       "        vertical-align: middle;\n",
       "    }\n",
       "\n",
       "    .dataframe tbody tr th {\n",
       "        vertical-align: top;\n",
       "    }\n",
       "\n",
       "    .dataframe thead th {\n",
       "        text-align: right;\n",
       "    }\n",
       "</style>\n",
       "<table border=\"1\" class=\"dataframe\">\n",
       "  <thead>\n",
       "    <tr style=\"text-align: right;\">\n",
       "      <th></th>\n",
       "      <th>Transaction Date</th>\n",
       "      <th>Segment</th>\n",
       "      <th>Product Name</th>\n",
       "      <th>Sales</th>\n",
       "      <th>Profit</th>\n",
       "    </tr>\n",
       "  </thead>\n",
       "  <tbody>\n",
       "    <tr>\n",
       "      <th>0</th>\n",
       "      <td>2022-02-08</td>\n",
       "      <td>Consumer</td>\n",
       "      <td>Laptop</td>\n",
       "      <td>12.0</td>\n",
       "      <td>2.0</td>\n",
       "    </tr>\n",
       "    <tr>\n",
       "      <th>2</th>\n",
       "      <td>2022-03-03</td>\n",
       "      <td>Corporate</td>\n",
       "      <td>Mouse</td>\n",
       "      <td>13.0</td>\n",
       "      <td>0.0</td>\n",
       "    </tr>\n",
       "    <tr>\n",
       "      <th>3</th>\n",
       "      <td>2022-03-08</td>\n",
       "      <td>Consumer</td>\n",
       "      <td>Keyboard</td>\n",
       "      <td>60.0</td>\n",
       "      <td>5.0</td>\n",
       "    </tr>\n",
       "    <tr>\n",
       "      <th>4</th>\n",
       "      <td>2022-04-02</td>\n",
       "      <td>Corporate</td>\n",
       "      <td>Laptop</td>\n",
       "      <td>10.0</td>\n",
       "      <td>NaN</td>\n",
       "    </tr>\n",
       "  </tbody>\n",
       "</table>\n",
       "</div>"
      ],
      "text/plain": [
       "  Transaction Date    Segment Product Name  Sales  Profit\n",
       "0       2022-02-08   Consumer       Laptop   12.0     2.0\n",
       "2       2022-03-03  Corporate        Mouse   13.0     0.0\n",
       "3       2022-03-08   Consumer     Keyboard   60.0     5.0\n",
       "4       2022-04-02  Corporate       Laptop   10.0     NaN"
      ]
     },
     "execution_count": 25,
     "metadata": {},
     "output_type": "execute_result"
    }
   ],
   "source": [
    "# Filter with only sales > 75% percentile\n",
    "sales_75quantile = df['Sales'].quantile(0.75)\n",
    "new_df = df[df['Sales'] > sales_75quantile]\n",
    "new_df.head(100)"
   ]
  },
  {
   "cell_type": "code",
   "execution_count": 26,
   "id": "34006ab9",
   "metadata": {},
   "outputs": [
    {
     "data": {
      "text/plain": [
       "Camera      8\n",
       "Laptop      4\n",
       "Keyboard    3\n",
       "Mic         3\n",
       "Mouse       1\n",
       "Name: Product Name, dtype: int64"
      ]
     },
     "execution_count": 26,
     "metadata": {},
     "output_type": "execute_result"
    }
   ],
   "source": [
    "df['Product Name'].value_counts()"
   ]
  },
  {
   "cell_type": "code",
   "execution_count": 27,
   "id": "8e4f9af8",
   "metadata": {},
   "outputs": [
    {
     "data": {
      "text/plain": [
       "<AxesSubplot:>"
      ]
     },
     "execution_count": 27,
     "metadata": {},
     "output_type": "execute_result"
    },
    {
     "data": {
      "image/png": "[encoded data removed]",
      "text/plain": [
       "<Figure size 432x288 with 1 Axes>"
      ]
     },
     "metadata": {
      "needs_background": "light"
     },
     "output_type": "display_data"
    }
   ],
   "source": [
    "df['Product Name'].value_counts().plot.bar()"
   ]
  },
  {
   "cell_type": "code",
   "execution_count": 28,
   "id": "56c543e2",
   "metadata": {},
   "outputs": [
    {
     "data": {
      "image/png": "[encoded data removed]",
      "text/plain": [
       "<Figure size 432x288 with 1 Axes>"
      ]
     },
     "metadata": {
      "needs_background": "light"
     },
     "output_type": "display_data"
    }
   ],
   "source": [
    "df['Product Name'].value_counts().plot.barh()      # horizontal\n",
    "# we can use matplot to control also the detauks\n",
    "plt.gca().invert_yaxis()         # invert y to have higher first\n",
    "plt.title(\"Products Details\")\n",
    "plt.xlabel(\"Frequency\")\n",
    "plt.ylabel(\"Product Name\")\n",
    "plt.show()"
   ]
  },
  {
   "cell_type": "code",
   "execution_count": 29,
   "id": "7d29a1b8",
   "metadata": {},
   "outputs": [
    {
     "data": {
      "text/plain": [
       "{'Camera': [7, 8, 9, 10, 12, 13, 16, 18], 'Keyboard': [1, 3, 14], 'Laptop': [0, 4, 6, 15], 'Mic': [5, 11, 17], 'Mouse': [2]}"
      ]
     },
     "execution_count": 29,
     "metadata": {},
     "output_type": "execute_result"
    }
   ],
   "source": [
    "item = df.groupby([\"Product Name\"])   # type: DataFrameGroupBy\n",
    "df.groupby([\"Product Name\"]).groups   # PrettyDict"
   ]
  },
  {
   "cell_type": "code",
   "execution_count": 30,
   "id": "737066f4",
   "metadata": {},
   "outputs": [
    {
     "data": {
      "text/plain": [
       "Product Name\n",
       "Camera      32.0\n",
       "Keyboard    74.0\n",
       "Laptop      35.0\n",
       "Mic          2.0\n",
       "Mouse       13.0\n",
       "Name: Sales, dtype: float64"
      ]
     },
     "execution_count": 30,
     "metadata": {},
     "output_type": "execute_result"
    }
   ],
   "source": [
    "product_group = df.groupby([\"Product Name\"]).sum()[\"Sales\"] # pandas.core.series.Series\n",
    "product_group"
   ]
  },
  {
   "cell_type": "code",
   "execution_count": 31,
   "id": "35e6ace2",
   "metadata": {},
   "outputs": [
    {
     "data": {
      "text/plain": [
       "Product Name\n",
       "Camera      1.0\n",
       "Keyboard    5.0\n",
       "Laptop      2.0\n",
       "Mic        -1.0\n",
       "Mouse       0.0\n",
       "Name: Profit, dtype: float64"
      ]
     },
     "execution_count": 31,
     "metadata": {},
     "output_type": "execute_result"
    }
   ],
   "source": [
    "df.groupby([\"Product Name\"]).max()[\"Profit\"]"
   ]
  },
  {
   "cell_type": "code",
   "execution_count": 32,
   "id": "054d0366",
   "metadata": {},
   "outputs": [
    {
     "data": {
      "text/plain": [
       "Product Name\n",
       "Keyboard    5.0\n",
       "Laptop      2.0\n",
       "Name: Profit, dtype: float64"
      ]
     },
     "execution_count": 32,
     "metadata": {},
     "output_type": "execute_result"
    }
   ],
   "source": [
    "df.groupby([\"Product Name\"]).max()[\"Profit\"].nlargest(2)"
   ]
  },
  {
   "cell_type": "code",
   "execution_count": 33,
   "id": "033817cb",
   "metadata": {},
   "outputs": [
    {
     "data": {
      "text/plain": [
       "Product Name\n",
       "Keyboard    12.0\n",
       "Laptop       3.0\n",
       "Name: Profit, dtype: float64"
      ]
     },
     "execution_count": 33,
     "metadata": {},
     "output_type": "execute_result"
    }
   ],
   "source": [
    "df.groupby([\"Product Name\"]).sum()[\"Profit\"].nlargest(2)"
   ]
  },
  {
   "cell_type": "code",
   "execution_count": 34,
   "id": "28a374f0",
   "metadata": {},
   "outputs": [
    {
     "data": {
      "text/plain": [
       "Product Name\n",
       "Keyboard    12.0\n",
       "Laptop       3.0\n",
       "Mouse        0.0\n",
       "Camera      -1.0\n",
       "Mic        -13.0\n",
       "Name: Profit, dtype: float64"
      ]
     },
     "execution_count": 34,
     "metadata": {},
     "output_type": "execute_result"
    }
   ],
   "source": [
    "# or u can sort the data and present as u wish\n",
    "df.groupby([\"Product Name\"]).sum()[\"Profit\"].sort_values(ascending=False)"
   ]
  },
  {
   "cell_type": "code",
   "execution_count": 35,
   "id": "75fddc57",
   "metadata": {},
   "outputs": [
    {
     "data": {
      "text/html": [
       "<div>\n",
       "<style scoped>\n",
       "    .dataframe tbody tr th:only-of-type {\n",
       "        vertical-align: middle;\n",
       "    }\n",
       "\n",
       "    .dataframe tbody tr th {\n",
       "        vertical-align: top;\n",
       "    }\n",
       "\n",
       "    .dataframe thead th {\n",
       "        text-align: right;\n",
       "    }\n",
       "</style>\n",
       "<table border=\"1\" class=\"dataframe\">\n",
       "  <thead>\n",
       "    <tr style=\"text-align: right;\">\n",
       "      <th></th>\n",
       "      <th>mean</th>\n",
       "      <th>median</th>\n",
       "    </tr>\n",
       "    <tr>\n",
       "      <th>Product Name</th>\n",
       "      <th></th>\n",
       "      <th></th>\n",
       "    </tr>\n",
       "  </thead>\n",
       "  <tbody>\n",
       "    <tr>\n",
       "      <th>Camera</th>\n",
       "      <td>-0.125000</td>\n",
       "      <td>0.5</td>\n",
       "    </tr>\n",
       "    <tr>\n",
       "      <th>Keyboard</th>\n",
       "      <td>4.000000</td>\n",
       "      <td>5.0</td>\n",
       "    </tr>\n",
       "    <tr>\n",
       "      <th>Laptop</th>\n",
       "      <td>1.500000</td>\n",
       "      <td>1.5</td>\n",
       "    </tr>\n",
       "    <tr>\n",
       "      <th>Mic</th>\n",
       "      <td>-4.333333</td>\n",
       "      <td>-5.0</td>\n",
       "    </tr>\n",
       "    <tr>\n",
       "      <th>Mouse</th>\n",
       "      <td>0.000000</td>\n",
       "      <td>0.0</td>\n",
       "    </tr>\n",
       "  </tbody>\n",
       "</table>\n",
       "</div>"
      ],
      "text/plain": [
       "                  mean  median\n",
       "Product Name                  \n",
       "Camera       -0.125000     0.5\n",
       "Keyboard      4.000000     5.0\n",
       "Laptop        1.500000     1.5\n",
       "Mic          -4.333333    -5.0\n",
       "Mouse         0.000000     0.0"
      ]
     },
     "execution_count": 35,
     "metadata": {},
     "output_type": "execute_result"
    }
   ],
   "source": [
    "# multi-statisics per a column\n",
    "df.groupby([\"Product Name\"])['Profit'].agg([\"mean\", \"median\"])"
   ]
  },
  {
   "cell_type": "code",
   "execution_count": 36,
   "id": "f4ed17e0",
   "metadata": {},
   "outputs": [
    {
     "data": {
      "text/plain": [
       "Product Name\n",
       "Camera                    [-5.0, -0.125, 0.5, 1.0]\n",
       "Keyboard                      [2.0, 4.0, 5.0, 5.0]\n",
       "Laptop                        [1.0, 1.5, 1.5, 2.0]\n",
       "Mic         [-7.0, -4.333333333333333, -5.0, -1.0]\n",
       "Mouse                         [0.0, 0.0, 0.0, 0.0]\n",
       "Name: Profit, dtype: object"
      ]
     },
     "execution_count": 36,
     "metadata": {},
     "output_type": "execute_result"
    }
   ],
   "source": [
    "def process(group):  # group will be a pandas.core.series.Series of each group\n",
    "    return [group.min(), group.mean(), group.median(), group.max()]\n",
    "\n",
    "df.groupby([\"Product Name\"])['Profit'].apply(process)"
   ]
  },
  {
   "cell_type": "code",
   "execution_count": 37,
   "id": "49f13d50",
   "metadata": {},
   "outputs": [
    {
     "data": {
      "text/html": [
       "<div>\n",
       "<style scoped>\n",
       "    .dataframe tbody tr th:only-of-type {\n",
       "        vertical-align: middle;\n",
       "    }\n",
       "\n",
       "    .dataframe tbody tr th {\n",
       "        vertical-align: top;\n",
       "    }\n",
       "\n",
       "    .dataframe thead th {\n",
       "        text-align: right;\n",
       "    }\n",
       "</style>\n",
       "<table border=\"1\" class=\"dataframe\">\n",
       "  <thead>\n",
       "    <tr style=\"text-align: right;\">\n",
       "      <th></th>\n",
       "      <th></th>\n",
       "      <th>Sales</th>\n",
       "      <th>Profit</th>\n",
       "    </tr>\n",
       "    <tr>\n",
       "      <th>Product Name</th>\n",
       "      <th>Segment</th>\n",
       "      <th></th>\n",
       "      <th></th>\n",
       "    </tr>\n",
       "  </thead>\n",
       "  <tbody>\n",
       "    <tr>\n",
       "      <th rowspan=\"2\" valign=\"top\">Camera</th>\n",
       "      <th>Consumer</th>\n",
       "      <td>5.000000</td>\n",
       "      <td>-2.000000</td>\n",
       "    </tr>\n",
       "    <tr>\n",
       "      <th>Corporate</th>\n",
       "      <td>4.500000</td>\n",
       "      <td>0.500000</td>\n",
       "    </tr>\n",
       "    <tr>\n",
       "      <th rowspan=\"2\" valign=\"top\">Keyboard</th>\n",
       "      <th>Consumer</th>\n",
       "      <td>33.500000</td>\n",
       "      <td>5.000000</td>\n",
       "    </tr>\n",
       "    <tr>\n",
       "      <th>Corporate</th>\n",
       "      <td>7.000000</td>\n",
       "      <td>2.000000</td>\n",
       "    </tr>\n",
       "    <tr>\n",
       "      <th rowspan=\"2\" valign=\"top\">Laptop</th>\n",
       "      <th>Consumer</th>\n",
       "      <td>8.333333</td>\n",
       "      <td>1.500000</td>\n",
       "    </tr>\n",
       "    <tr>\n",
       "      <th>Corporate</th>\n",
       "      <td>10.000000</td>\n",
       "      <td>NaN</td>\n",
       "    </tr>\n",
       "    <tr>\n",
       "      <th>Mic</th>\n",
       "      <th>Consumer</th>\n",
       "      <td>2.000000</td>\n",
       "      <td>-4.333333</td>\n",
       "    </tr>\n",
       "    <tr>\n",
       "      <th>Mouse</th>\n",
       "      <th>Corporate</th>\n",
       "      <td>13.000000</td>\n",
       "      <td>0.000000</td>\n",
       "    </tr>\n",
       "  </tbody>\n",
       "</table>\n",
       "</div>"
      ],
      "text/plain": [
       "                            Sales    Profit\n",
       "Product Name Segment                       \n",
       "Camera       Consumer    5.000000 -2.000000\n",
       "             Corporate   4.500000  0.500000\n",
       "Keyboard     Consumer   33.500000  5.000000\n",
       "             Corporate   7.000000  2.000000\n",
       "Laptop       Consumer    8.333333  1.500000\n",
       "             Corporate  10.000000       NaN\n",
       "Mic          Consumer    2.000000 -4.333333\n",
       "Mouse        Corporate  13.000000  0.000000"
      ]
     },
     "execution_count": 37,
     "metadata": {},
     "output_type": "execute_result"
    }
   ],
   "source": [
    "df.groupby([\"Product Name\", \"Segment\"]).mean()[[\"Sales\", \"Profit\"]]  # DataFrame"
   ]
  },
  {
   "cell_type": "code",
   "execution_count": 38,
   "id": "6a130b8a",
   "metadata": {},
   "outputs": [],
   "source": [
    "df_grp = df.groupby([\"Product Name\", \"Segment\"], as_index=False).mean()[[\"Sales\", \"Profit\"]]"
   ]
  },
  {
   "cell_type": "code",
   "execution_count": 39,
   "id": "ff8247f1",
   "metadata": {},
   "outputs": [
    {
     "data": {
      "image/png": "[encoded data removed]",
      "text/plain": [
       "<Figure size 432x288 with 1 Axes>"
      ]
     },
     "metadata": {
      "needs_background": "light"
     },
     "output_type": "display_data"
    }
   ],
   "source": [
    "df_grp.plot(kind=\"bar\")\n",
    "plt.show()"
   ]
  },
  {
   "cell_type": "code",
   "execution_count": 40,
   "id": "b98770bd",
   "metadata": {},
   "outputs": [
    {
     "data": {
      "text/html": [
       "<div>\n",
       "<style scoped>\n",
       "    .dataframe tbody tr th:only-of-type {\n",
       "        vertical-align: middle;\n",
       "    }\n",
       "\n",
       "    .dataframe tbody tr th {\n",
       "        vertical-align: top;\n",
       "    }\n",
       "\n",
       "    .dataframe thead th {\n",
       "        text-align: right;\n",
       "    }\n",
       "</style>\n",
       "<table border=\"1\" class=\"dataframe\">\n",
       "  <thead>\n",
       "    <tr style=\"text-align: right;\">\n",
       "      <th></th>\n",
       "      <th>Sales</th>\n",
       "      <th>Profit</th>\n",
       "      <th>Margin</th>\n",
       "    </tr>\n",
       "  </thead>\n",
       "  <tbody>\n",
       "    <tr>\n",
       "      <th>0</th>\n",
       "      <td>5.000000</td>\n",
       "      <td>-2.000000</td>\n",
       "      <td>-2.500000</td>\n",
       "    </tr>\n",
       "    <tr>\n",
       "      <th>1</th>\n",
       "      <td>4.500000</td>\n",
       "      <td>0.500000</td>\n",
       "      <td>9.000000</td>\n",
       "    </tr>\n",
       "    <tr>\n",
       "      <th>2</th>\n",
       "      <td>33.500000</td>\n",
       "      <td>5.000000</td>\n",
       "      <td>6.700000</td>\n",
       "    </tr>\n",
       "    <tr>\n",
       "      <th>3</th>\n",
       "      <td>7.000000</td>\n",
       "      <td>2.000000</td>\n",
       "      <td>3.500000</td>\n",
       "    </tr>\n",
       "    <tr>\n",
       "      <th>4</th>\n",
       "      <td>8.333333</td>\n",
       "      <td>1.500000</td>\n",
       "      <td>5.555556</td>\n",
       "    </tr>\n",
       "    <tr>\n",
       "      <th>5</th>\n",
       "      <td>10.000000</td>\n",
       "      <td>NaN</td>\n",
       "      <td>NaN</td>\n",
       "    </tr>\n",
       "    <tr>\n",
       "      <th>6</th>\n",
       "      <td>2.000000</td>\n",
       "      <td>-4.333333</td>\n",
       "      <td>-0.461538</td>\n",
       "    </tr>\n",
       "    <tr>\n",
       "      <th>7</th>\n",
       "      <td>13.000000</td>\n",
       "      <td>0.000000</td>\n",
       "      <td>inf</td>\n",
       "    </tr>\n",
       "  </tbody>\n",
       "</table>\n",
       "</div>"
      ],
      "text/plain": [
       "       Sales    Profit    Margin\n",
       "0   5.000000 -2.000000 -2.500000\n",
       "1   4.500000  0.500000  9.000000\n",
       "2  33.500000  5.000000  6.700000\n",
       "3   7.000000  2.000000  3.500000\n",
       "4   8.333333  1.500000  5.555556\n",
       "5  10.000000       NaN       NaN\n",
       "6   2.000000 -4.333333 -0.461538\n",
       "7  13.000000  0.000000       inf"
      ]
     },
     "execution_count": 40,
     "metadata": {},
     "output_type": "execute_result"
    }
   ],
   "source": [
    "df_grp['Margin'] = df_grp['Sales'] / df_grp['Profit']\n",
    "# Introduce new columns for added information to your analysis\n",
    "df_grp"
   ]
  },
  {
   "cell_type": "code",
   "execution_count": 41,
   "id": "06031fba",
   "metadata": {},
   "outputs": [
    {
     "data": {
      "text/plain": [
       "[35.0, 32.0, 2.0, 13.0]"
      ]
     },
     "execution_count": 41,
     "metadata": {},
     "output_type": "execute_result"
    }
   ],
   "source": [
    "laptop_sales = df[df['Product Name'] == 'Laptop']['Sales'].sum()\n",
    "camera_sales = df[df['Product Name'] == 'Camera']['Sales'].sum()\n",
    "mic_sales = df[df['Product Name'] == 'Mic']['Sales'].sum()\n",
    "mouse_sales = df[df['Product Name'] == 'Mouse']['Sales'].sum()\n",
    "\n",
    "sales_sum = [laptop_sales , camera_sales , mic_sales , mouse_sales]\n",
    "sales_labels = ['Laptop', 'Camera', 'Mic', 'Mouse']\n",
    "\n",
    "sales_sum\n"
   ]
  },
  {
   "cell_type": "code",
   "execution_count": 42,
   "id": "d85154a8",
   "metadata": {},
   "outputs": [
    {
     "data": {
      "image/png": "[encoded data removed]",
      "text/plain": [
       "<Figure size 864x576 with 1 Axes>"
      ]
     },
     "metadata": {},
     "output_type": "display_data"
    }
   ],
   "source": [
    "plt.figure(figsize=(12,8))\n",
    "plt.rcParams.update({'font.size': 15})\n",
    "plt.axis('equal')\n",
    "plt.pie(sales_sum, labels=sales_labels, autopct='%.1f%%')  # .1 precision 1 digit\n",
    "plt.title('Product Sales')\n",
    "plt.legend(loc = 0)\n",
    "plt.show()"
   ]
  },
  {
   "cell_type": "code",
   "execution_count": 43,
   "id": "7168aa28",
   "metadata": {},
   "outputs": [
    {
     "data": {
      "text/html": [
       "<div>\n",
       "<style scoped>\n",
       "    .dataframe tbody tr th:only-of-type {\n",
       "        vertical-align: middle;\n",
       "    }\n",
       "\n",
       "    .dataframe tbody tr th {\n",
       "        vertical-align: top;\n",
       "    }\n",
       "\n",
       "    .dataframe thead th {\n",
       "        text-align: right;\n",
       "    }\n",
       "</style>\n",
       "<table border=\"1\" class=\"dataframe\">\n",
       "  <thead>\n",
       "    <tr style=\"text-align: right;\">\n",
       "      <th></th>\n",
       "      <th>Sales</th>\n",
       "      <th>Profit</th>\n",
       "    </tr>\n",
       "    <tr>\n",
       "      <th>Transaction Date</th>\n",
       "      <th></th>\n",
       "      <th></th>\n",
       "    </tr>\n",
       "  </thead>\n",
       "  <tbody>\n",
       "    <tr>\n",
       "      <th>2022-02-08</th>\n",
       "      <td>12.0</td>\n",
       "      <td>2.0</td>\n",
       "    </tr>\n",
       "    <tr>\n",
       "      <th>2022-02-11</th>\n",
       "      <td>7.0</td>\n",
       "      <td>5.0</td>\n",
       "    </tr>\n",
       "    <tr>\n",
       "      <th>2022-03-03</th>\n",
       "      <td>13.0</td>\n",
       "      <td>0.0</td>\n",
       "    </tr>\n",
       "    <tr>\n",
       "      <th>2022-03-08</th>\n",
       "      <td>60.0</td>\n",
       "      <td>5.0</td>\n",
       "    </tr>\n",
       "    <tr>\n",
       "      <th>2022-04-02</th>\n",
       "      <td>10.0</td>\n",
       "      <td>-5.0</td>\n",
       "    </tr>\n",
       "    <tr>\n",
       "      <th>2022-04-08</th>\n",
       "      <td>5.0</td>\n",
       "      <td>1.0</td>\n",
       "    </tr>\n",
       "    <tr>\n",
       "      <th>2022-04-16</th>\n",
       "      <td>10.0</td>\n",
       "      <td>2.0</td>\n",
       "    </tr>\n",
       "    <tr>\n",
       "      <th>2022-05-03</th>\n",
       "      <td>8.0</td>\n",
       "      <td>0.0</td>\n",
       "    </tr>\n",
       "    <tr>\n",
       "      <th>2022-06-08</th>\n",
       "      <td>0.0</td>\n",
       "      <td>-5.0</td>\n",
       "    </tr>\n",
       "    <tr>\n",
       "      <th>2022-06-13</th>\n",
       "      <td>0.0</td>\n",
       "      <td>-7.0</td>\n",
       "    </tr>\n",
       "    <tr>\n",
       "      <th>2022-06-17</th>\n",
       "      <td>5.0</td>\n",
       "      <td>1.0</td>\n",
       "    </tr>\n",
       "    <tr>\n",
       "      <th>2022-09-03</th>\n",
       "      <td>20.0</td>\n",
       "      <td>3.0</td>\n",
       "    </tr>\n",
       "    <tr>\n",
       "      <th>2022-10-01</th>\n",
       "      <td>4.0</td>\n",
       "      <td>0.0</td>\n",
       "    </tr>\n",
       "    <tr>\n",
       "      <th>2022-11-12</th>\n",
       "      <td>2.0</td>\n",
       "      <td>-1.0</td>\n",
       "    </tr>\n",
       "  </tbody>\n",
       "</table>\n",
       "</div>"
      ],
      "text/plain": [
       "                  Sales  Profit\n",
       "Transaction Date               \n",
       "2022-02-08         12.0     2.0\n",
       "2022-02-11          7.0     5.0\n",
       "2022-03-03         13.0     0.0\n",
       "2022-03-08         60.0     5.0\n",
       "2022-04-02         10.0    -5.0\n",
       "2022-04-08          5.0     1.0\n",
       "2022-04-16         10.0     2.0\n",
       "2022-05-03          8.0     0.0\n",
       "2022-06-08          0.0    -5.0\n",
       "2022-06-13          0.0    -7.0\n",
       "2022-06-17          5.0     1.0\n",
       "2022-09-03         20.0     3.0\n",
       "2022-10-01          4.0     0.0\n",
       "2022-11-12          2.0    -1.0"
      ]
     },
     "execution_count": 43,
     "metadata": {},
     "output_type": "execute_result"
    }
   ],
   "source": [
    "df_date = df.groupby(['Transaction Date'], as_index=True).sum()\n",
    "df_date"
   ]
  },
  {
   "cell_type": "code",
   "execution_count": 44,
   "id": "1d2a5fe9",
   "metadata": {},
   "outputs": [
    {
     "data": {
      "image/png": "[encoded data removed]",
      "text/plain": [
       "<Figure size 1800x576 with 1 Axes>"
      ]
     },
     "metadata": {
      "needs_background": "light"
     },
     "output_type": "display_data"
    }
   ],
   "source": [
    "plt.figure(figsize=(25,8))\n",
    "plt.plot(df_date['Sales'])\n",
    "plt.xlabel(\"Date\")\n",
    "plt.ylabel(\"Sales\")\n",
    "plt.title(\"Sales\")\n",
    "plt.show()\n",
    "# if you have a lot of data, you can group them using pandas.DataFrame.resample"
   ]
  },
  {
   "cell_type": "code",
   "execution_count": 45,
   "id": "14688bf1",
   "metadata": {},
   "outputs": [
    {
     "data": {
      "text/plain": [
       "RangeIndex(start=0, stop=19, step=1)"
      ]
     },
     "execution_count": 45,
     "metadata": {},
     "output_type": "execute_result"
    }
   ],
   "source": [
    "df.index"
   ]
  },
  {
   "cell_type": "code",
   "execution_count": 46,
   "id": "b2b40943",
   "metadata": {},
   "outputs": [
    {
     "data": {
      "text/html": [
       "<div>\n",
       "<style scoped>\n",
       "    .dataframe tbody tr th:only-of-type {\n",
       "        vertical-align: middle;\n",
       "    }\n",
       "\n",
       "    .dataframe tbody tr th {\n",
       "        vertical-align: top;\n",
       "    }\n",
       "\n",
       "    .dataframe thead th {\n",
       "        text-align: right;\n",
       "    }\n",
       "</style>\n",
       "<table border=\"1\" class=\"dataframe\">\n",
       "  <thead>\n",
       "    <tr style=\"text-align: right;\">\n",
       "      <th></th>\n",
       "      <th>Transaction Date</th>\n",
       "      <th>Product Name</th>\n",
       "      <th>Sales</th>\n",
       "      <th>Profit</th>\n",
       "    </tr>\n",
       "    <tr>\n",
       "      <th>Segment</th>\n",
       "      <th></th>\n",
       "      <th></th>\n",
       "      <th></th>\n",
       "      <th></th>\n",
       "    </tr>\n",
       "  </thead>\n",
       "  <tbody>\n",
       "    <tr>\n",
       "      <th>Consumer</th>\n",
       "      <td>2022-02-08</td>\n",
       "      <td>Laptop</td>\n",
       "      <td>12.0</td>\n",
       "      <td>2.0</td>\n",
       "    </tr>\n",
       "    <tr>\n",
       "      <th>Consumer</th>\n",
       "      <td>2022-02-11</td>\n",
       "      <td>Keyboard</td>\n",
       "      <td>7.0</td>\n",
       "      <td>5.0</td>\n",
       "    </tr>\n",
       "    <tr>\n",
       "      <th>Corporate</th>\n",
       "      <td>2022-03-03</td>\n",
       "      <td>Mouse</td>\n",
       "      <td>13.0</td>\n",
       "      <td>0.0</td>\n",
       "    </tr>\n",
       "    <tr>\n",
       "      <th>Consumer</th>\n",
       "      <td>2022-03-08</td>\n",
       "      <td>Keyboard</td>\n",
       "      <td>60.0</td>\n",
       "      <td>5.0</td>\n",
       "    </tr>\n",
       "    <tr>\n",
       "      <th>Corporate</th>\n",
       "      <td>2022-04-02</td>\n",
       "      <td>Laptop</td>\n",
       "      <td>10.0</td>\n",
       "      <td>NaN</td>\n",
       "    </tr>\n",
       "    <tr>\n",
       "      <th>Consumer</th>\n",
       "      <td>2022-04-02</td>\n",
       "      <td>Mic</td>\n",
       "      <td>NaN</td>\n",
       "      <td>-5.0</td>\n",
       "    </tr>\n",
       "    <tr>\n",
       "      <th>Consumer</th>\n",
       "      <td>2022-04-08</td>\n",
       "      <td>Laptop</td>\n",
       "      <td>5.0</td>\n",
       "      <td>1.0</td>\n",
       "    </tr>\n",
       "    <tr>\n",
       "      <th>Corporate</th>\n",
       "      <td>2022-04-16</td>\n",
       "      <td>Camera</td>\n",
       "      <td>5.0</td>\n",
       "      <td>1.0</td>\n",
       "    </tr>\n",
       "    <tr>\n",
       "      <th>Corporate</th>\n",
       "      <td>2022-04-16</td>\n",
       "      <td>Camera</td>\n",
       "      <td>5.0</td>\n",
       "      <td>1.0</td>\n",
       "    </tr>\n",
       "    <tr>\n",
       "      <th>Corporate</th>\n",
       "      <td>2022-05-03</td>\n",
       "      <td>Camera</td>\n",
       "      <td>4.0</td>\n",
       "      <td>0.0</td>\n",
       "    </tr>\n",
       "    <tr>\n",
       "      <th>Consumer</th>\n",
       "      <td>2022-06-08</td>\n",
       "      <td>Camera</td>\n",
       "      <td>NaN</td>\n",
       "      <td>-5.0</td>\n",
       "    </tr>\n",
       "    <tr>\n",
       "      <th>Consumer</th>\n",
       "      <td>2022-06-13</td>\n",
       "      <td>Mic</td>\n",
       "      <td>NaN</td>\n",
       "      <td>-7.0</td>\n",
       "    </tr>\n",
       "    <tr>\n",
       "      <th>Consumer</th>\n",
       "      <td>2022-06-17</td>\n",
       "      <td>Camera</td>\n",
       "      <td>5.0</td>\n",
       "      <td>1.0</td>\n",
       "    </tr>\n",
       "    <tr>\n",
       "      <th>Corporate</th>\n",
       "      <td>2022-09-03</td>\n",
       "      <td>Camera</td>\n",
       "      <td>5.0</td>\n",
       "      <td>1.0</td>\n",
       "    </tr>\n",
       "    <tr>\n",
       "      <th>Corporate</th>\n",
       "      <td>2022-09-03</td>\n",
       "      <td>Keyboard</td>\n",
       "      <td>7.0</td>\n",
       "      <td>2.0</td>\n",
       "    </tr>\n",
       "    <tr>\n",
       "      <th>Consumer</th>\n",
       "      <td>2022-09-03</td>\n",
       "      <td>Laptop</td>\n",
       "      <td>8.0</td>\n",
       "      <td>NaN</td>\n",
       "    </tr>\n",
       "    <tr>\n",
       "      <th>Corporate</th>\n",
       "      <td>2022-10-01</td>\n",
       "      <td>Camera</td>\n",
       "      <td>4.0</td>\n",
       "      <td>0.0</td>\n",
       "    </tr>\n",
       "    <tr>\n",
       "      <th>Consumer</th>\n",
       "      <td>2022-11-12</td>\n",
       "      <td>Mic</td>\n",
       "      <td>2.0</td>\n",
       "      <td>-1.0</td>\n",
       "    </tr>\n",
       "    <tr>\n",
       "      <th>Corporate</th>\n",
       "      <td>2022-05-03</td>\n",
       "      <td>Camera</td>\n",
       "      <td>4.0</td>\n",
       "      <td>0.0</td>\n",
       "    </tr>\n",
       "  </tbody>\n",
       "</table>\n",
       "</div>"
      ],
      "text/plain": [
       "          Transaction Date Product Name  Sales  Profit\n",
       "Segment                                               \n",
       "Consumer        2022-02-08       Laptop   12.0     2.0\n",
       "Consumer        2022-02-11     Keyboard    7.0     5.0\n",
       "Corporate       2022-03-03        Mouse   13.0     0.0\n",
       "Consumer        2022-03-08     Keyboard   60.0     5.0\n",
       "Corporate       2022-04-02       Laptop   10.0     NaN\n",
       "Consumer        2022-04-02          Mic    NaN    -5.0\n",
       "Consumer        2022-04-08       Laptop    5.0     1.0\n",
       "Corporate       2022-04-16       Camera    5.0     1.0\n",
       "Corporate       2022-04-16       Camera    5.0     1.0\n",
       "Corporate       2022-05-03       Camera    4.0     0.0\n",
       "Consumer        2022-06-08       Camera    NaN    -5.0\n",
       "Consumer        2022-06-13          Mic    NaN    -7.0\n",
       "Consumer        2022-06-17       Camera    5.0     1.0\n",
       "Corporate       2022-09-03       Camera    5.0     1.0\n",
       "Corporate       2022-09-03     Keyboard    7.0     2.0\n",
       "Consumer        2022-09-03       Laptop    8.0     NaN\n",
       "Corporate       2022-10-01       Camera    4.0     0.0\n",
       "Consumer        2022-11-12          Mic    2.0    -1.0\n",
       "Corporate       2022-05-03       Camera    4.0     0.0"
      ]
     },
     "execution_count": 46,
     "metadata": {},
     "output_type": "execute_result"
    }
   ],
   "source": [
    "df_segment_idx = df.set_index(['Segment'], inplace=False)\n",
    "df_segment_idx"
   ]
  },
  {
   "cell_type": "code",
   "execution_count": 47,
   "id": "e0cc469d",
   "metadata": {},
   "outputs": [],
   "source": [
    "#df['Segment']      # Error not a column anymore. An index"
   ]
  },
  {
   "cell_type": "code",
   "execution_count": 48,
   "id": "4ec87ea8",
   "metadata": {},
   "outputs": [
    {
     "data": {
      "text/html": [
       "<div>\n",
       "<style scoped>\n",
       "    .dataframe tbody tr th:only-of-type {\n",
       "        vertical-align: middle;\n",
       "    }\n",
       "\n",
       "    .dataframe tbody tr th {\n",
       "        vertical-align: top;\n",
       "    }\n",
       "\n",
       "    .dataframe thead th {\n",
       "        text-align: right;\n",
       "    }\n",
       "</style>\n",
       "<table border=\"1\" class=\"dataframe\">\n",
       "  <thead>\n",
       "    <tr style=\"text-align: right;\">\n",
       "      <th></th>\n",
       "      <th>Transaction Date</th>\n",
       "      <th>Product Name</th>\n",
       "      <th>Sales</th>\n",
       "      <th>Profit</th>\n",
       "    </tr>\n",
       "    <tr>\n",
       "      <th>Segment</th>\n",
       "      <th></th>\n",
       "      <th></th>\n",
       "      <th></th>\n",
       "      <th></th>\n",
       "    </tr>\n",
       "  </thead>\n",
       "  <tbody>\n",
       "    <tr>\n",
       "      <th>Consumer</th>\n",
       "      <td>2022-02-08</td>\n",
       "      <td>Laptop</td>\n",
       "      <td>12.0</td>\n",
       "      <td>2.0</td>\n",
       "    </tr>\n",
       "    <tr>\n",
       "      <th>Consumer</th>\n",
       "      <td>2022-02-11</td>\n",
       "      <td>Keyboard</td>\n",
       "      <td>7.0</td>\n",
       "      <td>5.0</td>\n",
       "    </tr>\n",
       "    <tr>\n",
       "      <th>Consumer</th>\n",
       "      <td>2022-03-08</td>\n",
       "      <td>Keyboard</td>\n",
       "      <td>60.0</td>\n",
       "      <td>5.0</td>\n",
       "    </tr>\n",
       "    <tr>\n",
       "      <th>Consumer</th>\n",
       "      <td>2022-04-02</td>\n",
       "      <td>Mic</td>\n",
       "      <td>NaN</td>\n",
       "      <td>-5.0</td>\n",
       "    </tr>\n",
       "    <tr>\n",
       "      <th>Consumer</th>\n",
       "      <td>2022-04-08</td>\n",
       "      <td>Laptop</td>\n",
       "      <td>5.0</td>\n",
       "      <td>1.0</td>\n",
       "    </tr>\n",
       "    <tr>\n",
       "      <th>Consumer</th>\n",
       "      <td>2022-06-08</td>\n",
       "      <td>Camera</td>\n",
       "      <td>NaN</td>\n",
       "      <td>-5.0</td>\n",
       "    </tr>\n",
       "    <tr>\n",
       "      <th>Consumer</th>\n",
       "      <td>2022-06-13</td>\n",
       "      <td>Mic</td>\n",
       "      <td>NaN</td>\n",
       "      <td>-7.0</td>\n",
       "    </tr>\n",
       "    <tr>\n",
       "      <th>Consumer</th>\n",
       "      <td>2022-06-17</td>\n",
       "      <td>Camera</td>\n",
       "      <td>5.0</td>\n",
       "      <td>1.0</td>\n",
       "    </tr>\n",
       "    <tr>\n",
       "      <th>Consumer</th>\n",
       "      <td>2022-09-03</td>\n",
       "      <td>Laptop</td>\n",
       "      <td>8.0</td>\n",
       "      <td>NaN</td>\n",
       "    </tr>\n",
       "    <tr>\n",
       "      <th>Consumer</th>\n",
       "      <td>2022-11-12</td>\n",
       "      <td>Mic</td>\n",
       "      <td>2.0</td>\n",
       "      <td>-1.0</td>\n",
       "    </tr>\n",
       "  </tbody>\n",
       "</table>\n",
       "</div>"
      ],
      "text/plain": [
       "         Transaction Date Product Name  Sales  Profit\n",
       "Segment                                              \n",
       "Consumer       2022-02-08       Laptop   12.0     2.0\n",
       "Consumer       2022-02-11     Keyboard    7.0     5.0\n",
       "Consumer       2022-03-08     Keyboard   60.0     5.0\n",
       "Consumer       2022-04-02          Mic    NaN    -5.0\n",
       "Consumer       2022-04-08       Laptop    5.0     1.0\n",
       "Consumer       2022-06-08       Camera    NaN    -5.0\n",
       "Consumer       2022-06-13          Mic    NaN    -7.0\n",
       "Consumer       2022-06-17       Camera    5.0     1.0\n",
       "Consumer       2022-09-03       Laptop    8.0     NaN\n",
       "Consumer       2022-11-12          Mic    2.0    -1.0"
      ]
     },
     "execution_count": 48,
     "metadata": {},
     "output_type": "execute_result"
    }
   ],
   "source": [
    "df_segment_idx.loc['Consumer']    # Get the rows of this index value"
   ]
  },
  {
   "cell_type": "code",
   "execution_count": 49,
   "id": "34c6a483",
   "metadata": {},
   "outputs": [
    {
     "data": {
      "text/html": [
       "<div>\n",
       "<style scoped>\n",
       "    .dataframe tbody tr th:only-of-type {\n",
       "        vertical-align: middle;\n",
       "    }\n",
       "\n",
       "    .dataframe tbody tr th {\n",
       "        vertical-align: top;\n",
       "    }\n",
       "\n",
       "    .dataframe thead th {\n",
       "        text-align: right;\n",
       "    }\n",
       "</style>\n",
       "<table border=\"1\" class=\"dataframe\">\n",
       "  <thead>\n",
       "    <tr style=\"text-align: right;\">\n",
       "      <th></th>\n",
       "      <th></th>\n",
       "      <th>Transaction Date</th>\n",
       "      <th>Sales</th>\n",
       "      <th>Profit</th>\n",
       "    </tr>\n",
       "    <tr>\n",
       "      <th>Segment</th>\n",
       "      <th>Product Name</th>\n",
       "      <th></th>\n",
       "      <th></th>\n",
       "      <th></th>\n",
       "    </tr>\n",
       "  </thead>\n",
       "  <tbody>\n",
       "    <tr>\n",
       "      <th rowspan=\"2\" valign=\"top\">Consumer</th>\n",
       "      <th>Laptop</th>\n",
       "      <td>2022-02-08</td>\n",
       "      <td>12.0</td>\n",
       "      <td>2.0</td>\n",
       "    </tr>\n",
       "    <tr>\n",
       "      <th>Keyboard</th>\n",
       "      <td>2022-02-11</td>\n",
       "      <td>7.0</td>\n",
       "      <td>5.0</td>\n",
       "    </tr>\n",
       "    <tr>\n",
       "      <th>Corporate</th>\n",
       "      <th>Mouse</th>\n",
       "      <td>2022-03-03</td>\n",
       "      <td>13.0</td>\n",
       "      <td>0.0</td>\n",
       "    </tr>\n",
       "    <tr>\n",
       "      <th>Consumer</th>\n",
       "      <th>Keyboard</th>\n",
       "      <td>2022-03-08</td>\n",
       "      <td>60.0</td>\n",
       "      <td>5.0</td>\n",
       "    </tr>\n",
       "    <tr>\n",
       "      <th>Corporate</th>\n",
       "      <th>Laptop</th>\n",
       "      <td>2022-04-02</td>\n",
       "      <td>10.0</td>\n",
       "      <td>NaN</td>\n",
       "    </tr>\n",
       "    <tr>\n",
       "      <th rowspan=\"2\" valign=\"top\">Consumer</th>\n",
       "      <th>Mic</th>\n",
       "      <td>2022-04-02</td>\n",
       "      <td>NaN</td>\n",
       "      <td>-5.0</td>\n",
       "    </tr>\n",
       "    <tr>\n",
       "      <th>Laptop</th>\n",
       "      <td>2022-04-08</td>\n",
       "      <td>5.0</td>\n",
       "      <td>1.0</td>\n",
       "    </tr>\n",
       "    <tr>\n",
       "      <th rowspan=\"3\" valign=\"top\">Corporate</th>\n",
       "      <th>Camera</th>\n",
       "      <td>2022-04-16</td>\n",
       "      <td>5.0</td>\n",
       "      <td>1.0</td>\n",
       "    </tr>\n",
       "    <tr>\n",
       "      <th>Camera</th>\n",
       "      <td>2022-04-16</td>\n",
       "      <td>5.0</td>\n",
       "      <td>1.0</td>\n",
       "    </tr>\n",
       "    <tr>\n",
       "      <th>Camera</th>\n",
       "      <td>2022-05-03</td>\n",
       "      <td>4.0</td>\n",
       "      <td>0.0</td>\n",
       "    </tr>\n",
       "    <tr>\n",
       "      <th rowspan=\"3\" valign=\"top\">Consumer</th>\n",
       "      <th>Camera</th>\n",
       "      <td>2022-06-08</td>\n",
       "      <td>NaN</td>\n",
       "      <td>-5.0</td>\n",
       "    </tr>\n",
       "    <tr>\n",
       "      <th>Mic</th>\n",
       "      <td>2022-06-13</td>\n",
       "      <td>NaN</td>\n",
       "      <td>-7.0</td>\n",
       "    </tr>\n",
       "    <tr>\n",
       "      <th>Camera</th>\n",
       "      <td>2022-06-17</td>\n",
       "      <td>5.0</td>\n",
       "      <td>1.0</td>\n",
       "    </tr>\n",
       "    <tr>\n",
       "      <th rowspan=\"2\" valign=\"top\">Corporate</th>\n",
       "      <th>Camera</th>\n",
       "      <td>2022-09-03</td>\n",
       "      <td>5.0</td>\n",
       "      <td>1.0</td>\n",
       "    </tr>\n",
       "    <tr>\n",
       "      <th>Keyboard</th>\n",
       "      <td>2022-09-03</td>\n",
       "      <td>7.0</td>\n",
       "      <td>2.0</td>\n",
       "    </tr>\n",
       "    <tr>\n",
       "      <th>Consumer</th>\n",
       "      <th>Laptop</th>\n",
       "      <td>2022-09-03</td>\n",
       "      <td>8.0</td>\n",
       "      <td>NaN</td>\n",
       "    </tr>\n",
       "    <tr>\n",
       "      <th>Corporate</th>\n",
       "      <th>Camera</th>\n",
       "      <td>2022-10-01</td>\n",
       "      <td>4.0</td>\n",
       "      <td>0.0</td>\n",
       "    </tr>\n",
       "    <tr>\n",
       "      <th>Consumer</th>\n",
       "      <th>Mic</th>\n",
       "      <td>2022-11-12</td>\n",
       "      <td>2.0</td>\n",
       "      <td>-1.0</td>\n",
       "    </tr>\n",
       "    <tr>\n",
       "      <th>Corporate</th>\n",
       "      <th>Camera</th>\n",
       "      <td>2022-05-03</td>\n",
       "      <td>4.0</td>\n",
       "      <td>0.0</td>\n",
       "    </tr>\n",
       "  </tbody>\n",
       "</table>\n",
       "</div>"
      ],
      "text/plain": [
       "                       Transaction Date  Sales  Profit\n",
       "Segment   Product Name                                \n",
       "Consumer  Laptop             2022-02-08   12.0     2.0\n",
       "          Keyboard           2022-02-11    7.0     5.0\n",
       "Corporate Mouse              2022-03-03   13.0     0.0\n",
       "Consumer  Keyboard           2022-03-08   60.0     5.0\n",
       "Corporate Laptop             2022-04-02   10.0     NaN\n",
       "Consumer  Mic                2022-04-02    NaN    -5.0\n",
       "          Laptop             2022-04-08    5.0     1.0\n",
       "Corporate Camera             2022-04-16    5.0     1.0\n",
       "          Camera             2022-04-16    5.0     1.0\n",
       "          Camera             2022-05-03    4.0     0.0\n",
       "Consumer  Camera             2022-06-08    NaN    -5.0\n",
       "          Mic                2022-06-13    NaN    -7.0\n",
       "          Camera             2022-06-17    5.0     1.0\n",
       "Corporate Camera             2022-09-03    5.0     1.0\n",
       "          Keyboard           2022-09-03    7.0     2.0\n",
       "Consumer  Laptop             2022-09-03    8.0     NaN\n",
       "Corporate Camera             2022-10-01    4.0     0.0\n",
       "Consumer  Mic                2022-11-12    2.0    -1.0\n",
       "Corporate Camera             2022-05-03    4.0     0.0"
      ]
     },
     "execution_count": 49,
     "metadata": {},
     "output_type": "execute_result"
    }
   ],
   "source": [
    "df.set_index(['Segment', 'Product Name'], inplace=True)\n",
    "df"
   ]
  },
  {
   "cell_type": "code",
   "execution_count": 50,
   "id": "1166c30b",
   "metadata": {},
   "outputs": [
    {
     "data": {
      "text/html": [
       "<div>\n",
       "<style scoped>\n",
       "    .dataframe tbody tr th:only-of-type {\n",
       "        vertical-align: middle;\n",
       "    }\n",
       "\n",
       "    .dataframe tbody tr th {\n",
       "        vertical-align: top;\n",
       "    }\n",
       "\n",
       "    .dataframe thead th {\n",
       "        text-align: right;\n",
       "    }\n",
       "</style>\n",
       "<table border=\"1\" class=\"dataframe\">\n",
       "  <thead>\n",
       "    <tr style=\"text-align: right;\">\n",
       "      <th></th>\n",
       "      <th>Transaction Date</th>\n",
       "      <th>Sales</th>\n",
       "      <th>Profit</th>\n",
       "    </tr>\n",
       "    <tr>\n",
       "      <th>Product Name</th>\n",
       "      <th></th>\n",
       "      <th></th>\n",
       "      <th></th>\n",
       "    </tr>\n",
       "  </thead>\n",
       "  <tbody>\n",
       "    <tr>\n",
       "      <th>Laptop</th>\n",
       "      <td>2022-02-08</td>\n",
       "      <td>12.0</td>\n",
       "      <td>2.0</td>\n",
       "    </tr>\n",
       "    <tr>\n",
       "      <th>Keyboard</th>\n",
       "      <td>2022-02-11</td>\n",
       "      <td>7.0</td>\n",
       "      <td>5.0</td>\n",
       "    </tr>\n",
       "    <tr>\n",
       "      <th>Keyboard</th>\n",
       "      <td>2022-03-08</td>\n",
       "      <td>60.0</td>\n",
       "      <td>5.0</td>\n",
       "    </tr>\n",
       "    <tr>\n",
       "      <th>Mic</th>\n",
       "      <td>2022-04-02</td>\n",
       "      <td>NaN</td>\n",
       "      <td>-5.0</td>\n",
       "    </tr>\n",
       "    <tr>\n",
       "      <th>Laptop</th>\n",
       "      <td>2022-04-08</td>\n",
       "      <td>5.0</td>\n",
       "      <td>1.0</td>\n",
       "    </tr>\n",
       "    <tr>\n",
       "      <th>Camera</th>\n",
       "      <td>2022-06-08</td>\n",
       "      <td>NaN</td>\n",
       "      <td>-5.0</td>\n",
       "    </tr>\n",
       "    <tr>\n",
       "      <th>Mic</th>\n",
       "      <td>2022-06-13</td>\n",
       "      <td>NaN</td>\n",
       "      <td>-7.0</td>\n",
       "    </tr>\n",
       "    <tr>\n",
       "      <th>Camera</th>\n",
       "      <td>2022-06-17</td>\n",
       "      <td>5.0</td>\n",
       "      <td>1.0</td>\n",
       "    </tr>\n",
       "    <tr>\n",
       "      <th>Laptop</th>\n",
       "      <td>2022-09-03</td>\n",
       "      <td>8.0</td>\n",
       "      <td>NaN</td>\n",
       "    </tr>\n",
       "    <tr>\n",
       "      <th>Mic</th>\n",
       "      <td>2022-11-12</td>\n",
       "      <td>2.0</td>\n",
       "      <td>-1.0</td>\n",
       "    </tr>\n",
       "  </tbody>\n",
       "</table>\n",
       "</div>"
      ],
      "text/plain": [
       "             Transaction Date  Sales  Profit\n",
       "Product Name                                \n",
       "Laptop             2022-02-08   12.0     2.0\n",
       "Keyboard           2022-02-11    7.0     5.0\n",
       "Keyboard           2022-03-08   60.0     5.0\n",
       "Mic                2022-04-02    NaN    -5.0\n",
       "Laptop             2022-04-08    5.0     1.0\n",
       "Camera             2022-06-08    NaN    -5.0\n",
       "Mic                2022-06-13    NaN    -7.0\n",
       "Camera             2022-06-17    5.0     1.0\n",
       "Laptop             2022-09-03    8.0     NaN\n",
       "Mic                2022-11-12    2.0    -1.0"
      ]
     },
     "execution_count": 50,
     "metadata": {},
     "output_type": "execute_result"
    }
   ],
   "source": [
    "df.loc['Consumer']"
   ]
  },
  {
   "cell_type": "code",
   "execution_count": 51,
   "id": "84ccbf92",
   "metadata": {},
   "outputs": [
    {
     "data": {
      "text/html": [
       "<div>\n",
       "<style scoped>\n",
       "    .dataframe tbody tr th:only-of-type {\n",
       "        vertical-align: middle;\n",
       "    }\n",
       "\n",
       "    .dataframe tbody tr th {\n",
       "        vertical-align: top;\n",
       "    }\n",
       "\n",
       "    .dataframe thead th {\n",
       "        text-align: right;\n",
       "    }\n",
       "</style>\n",
       "<table border=\"1\" class=\"dataframe\">\n",
       "  <thead>\n",
       "    <tr style=\"text-align: right;\">\n",
       "      <th></th>\n",
       "      <th></th>\n",
       "      <th>Transaction Date</th>\n",
       "      <th>Sales</th>\n",
       "      <th>Profit</th>\n",
       "    </tr>\n",
       "    <tr>\n",
       "      <th>Segment</th>\n",
       "      <th>Product Name</th>\n",
       "      <th></th>\n",
       "      <th></th>\n",
       "      <th></th>\n",
       "    </tr>\n",
       "  </thead>\n",
       "  <tbody>\n",
       "    <tr>\n",
       "      <th rowspan=\"3\" valign=\"top\">Consumer</th>\n",
       "      <th>Laptop</th>\n",
       "      <td>2022-02-08</td>\n",
       "      <td>12.0</td>\n",
       "      <td>2.0</td>\n",
       "    </tr>\n",
       "    <tr>\n",
       "      <th>Laptop</th>\n",
       "      <td>2022-04-08</td>\n",
       "      <td>5.0</td>\n",
       "      <td>1.0</td>\n",
       "    </tr>\n",
       "    <tr>\n",
       "      <th>Laptop</th>\n",
       "      <td>2022-09-03</td>\n",
       "      <td>8.0</td>\n",
       "      <td>NaN</td>\n",
       "    </tr>\n",
       "  </tbody>\n",
       "</table>\n",
       "</div>"
      ],
      "text/plain": [
       "                      Transaction Date  Sales  Profit\n",
       "Segment  Product Name                                \n",
       "Consumer Laptop             2022-02-08   12.0     2.0\n",
       "         Laptop             2022-04-08    5.0     1.0\n",
       "         Laptop             2022-09-03    8.0     NaN"
      ]
     },
     "execution_count": 51,
     "metadata": {},
     "output_type": "execute_result"
    }
   ],
   "source": [
    "df = df.sort_index()   # To allow fast index accessing\n",
    "df.loc[('Consumer', 'Laptop')]"
   ]
  },
  {
   "cell_type": "code",
   "execution_count": 52,
   "id": "9f66789f",
   "metadata": {},
   "outputs": [
    {
     "data": {
      "text/plain": [
       "Sales     5.0\n",
       "Profit    1.0\n",
       "dtype: float64"
      ]
     },
     "execution_count": 52,
     "metadata": {},
     "output_type": "execute_result"
    }
   ],
   "source": [
    "col = ['Sales', 'Profit']\n",
    "rep = df[col].median()\n",
    "rep"
   ]
  },
  {
   "cell_type": "code",
   "execution_count": 53,
   "id": "b3301d0e",
   "metadata": {},
   "outputs": [
    {
     "data": {
      "text/html": [
       "<div>\n",
       "<style scoped>\n",
       "    .dataframe tbody tr th:only-of-type {\n",
       "        vertical-align: middle;\n",
       "    }\n",
       "\n",
       "    .dataframe tbody tr th {\n",
       "        vertical-align: top;\n",
       "    }\n",
       "\n",
       "    .dataframe thead th {\n",
       "        text-align: right;\n",
       "    }\n",
       "</style>\n",
       "<table border=\"1\" class=\"dataframe\">\n",
       "  <thead>\n",
       "    <tr style=\"text-align: right;\">\n",
       "      <th></th>\n",
       "      <th></th>\n",
       "      <th>Transaction Date</th>\n",
       "      <th>Sales</th>\n",
       "      <th>Profit</th>\n",
       "    </tr>\n",
       "    <tr>\n",
       "      <th>Segment</th>\n",
       "      <th>Product Name</th>\n",
       "      <th></th>\n",
       "      <th></th>\n",
       "      <th></th>\n",
       "    </tr>\n",
       "  </thead>\n",
       "  <tbody>\n",
       "    <tr>\n",
       "      <th rowspan=\"3\" valign=\"top\">Consumer</th>\n",
       "      <th>Laptop</th>\n",
       "      <td>2022-02-08</td>\n",
       "      <td>12.0</td>\n",
       "      <td>2.0</td>\n",
       "    </tr>\n",
       "    <tr>\n",
       "      <th>Laptop</th>\n",
       "      <td>2022-04-08</td>\n",
       "      <td>5.0</td>\n",
       "      <td>1.0</td>\n",
       "    </tr>\n",
       "    <tr>\n",
       "      <th>Laptop</th>\n",
       "      <td>2022-09-03</td>\n",
       "      <td>8.0</td>\n",
       "      <td>1.0</td>\n",
       "    </tr>\n",
       "  </tbody>\n",
       "</table>\n",
       "</div>"
      ],
      "text/plain": [
       "                      Transaction Date  Sales  Profit\n",
       "Segment  Product Name                                \n",
       "Consumer Laptop             2022-02-08   12.0     2.0\n",
       "         Laptop             2022-04-08    5.0     1.0\n",
       "         Laptop             2022-09-03    8.0     1.0"
      ]
     },
     "execution_count": 53,
     "metadata": {},
     "output_type": "execute_result"
    }
   ],
   "source": [
    "# Fill NaN Values with Median (or mean)\n",
    "#df = df.fillna(df.median())  # replace in whole DF if numeric\n",
    "df[col] = df[col].fillna(rep)  # update df\n",
    "df.loc[('Consumer', 'Laptop')]\n",
    "# also see df.dropna() "
   ]
  },
  {
   "cell_type": "code",
   "execution_count": 54,
   "id": "53c76bfb",
   "metadata": {},
   "outputs": [
    {
     "data": {
      "text/html": [
       "<style type=\"text/css\">\n",
       "#T_2156d_row0_col0, #T_2156d_row1_col1 {\n",
       "  background-color: #b40426;\n",
       "  color: #f1f1f1;\n",
       "}\n",
       "#T_2156d_row0_col1, #T_2156d_row1_col0 {\n",
       "  background-color: #3b4cc0;\n",
       "  color: #f1f1f1;\n",
       "}\n",
       "</style>\n",
       "<table id=\"T_2156d_\">\n",
       "  <thead>\n",
       "    <tr>\n",
       "      <th class=\"blank level0\" >&nbsp;</th>\n",
       "      <th class=\"col_heading level0 col0\" >Sales</th>\n",
       "      <th class=\"col_heading level0 col1\" >Profit</th>\n",
       "    </tr>\n",
       "  </thead>\n",
       "  <tbody>\n",
       "    <tr>\n",
       "      <th id=\"T_2156d_level0_row0\" class=\"row_heading level0 row0\" >Sales</th>\n",
       "      <td id=\"T_2156d_row0_col0\" class=\"data row0 col0\" >1.00</td>\n",
       "      <td id=\"T_2156d_row0_col1\" class=\"data row0 col1\" >0.44</td>\n",
       "    </tr>\n",
       "    <tr>\n",
       "      <th id=\"T_2156d_level0_row1\" class=\"row_heading level0 row1\" >Profit</th>\n",
       "      <td id=\"T_2156d_row1_col0\" class=\"data row1 col0\" >0.44</td>\n",
       "      <td id=\"T_2156d_row1_col1\" class=\"data row1 col1\" >1.00</td>\n",
       "    </tr>\n",
       "  </tbody>\n",
       "</table>\n"
      ],
      "text/plain": [
       "<pandas.io.formats.style.Styler at 0x7f876f98dfd0>"
      ]
     },
     "execution_count": 54,
     "metadata": {},
     "output_type": "execute_result"
    }
   ],
   "source": [
    "df_data = df[col]\n",
    "rs = np.random.RandomState(0)\n",
    "# you can merge these 3 lines\n",
    "corr = df_data.corr()  \n",
    "# cmap: color map for the values\n",
    "corr = corr.style.background_gradient(cmap='coolwarm')\n",
    "corr = corr.format(na_rep='MISS', precision=2)  # na_rep: Representation for missing values\n",
    "corr"
   ]
  },
  {
   "cell_type": "code",
   "execution_count": 55,
   "id": "3de34fe9",
   "metadata": {},
   "outputs": [
    {
     "data": {
      "text/plain": [
       "array([[ 5., -5.],\n",
       "       [ 5.,  1.],\n",
       "       [ 7.,  5.],\n",
       "       [60.,  5.],\n",
       "       [12.,  2.],\n",
       "       [ 5.,  1.],\n",
       "       [ 8.,  1.],\n",
       "       [ 5., -5.],\n",
       "       [ 5., -7.],\n",
       "       [ 2., -1.],\n",
       "       [ 5.,  1.],\n",
       "       [ 5.,  1.],\n",
       "       [ 4.,  0.],\n",
       "       [ 5.,  1.],\n",
       "       [ 4.,  0.],\n",
       "       [ 4.,  0.],\n",
       "       [ 7.,  2.],\n",
       "       [10.,  1.],\n",
       "       [13.,  0.]])"
      ]
     },
     "execution_count": 55,
     "metadata": {},
     "output_type": "execute_result"
    }
   ],
   "source": [
    "# Convert to numpy to use in your ML models\n",
    "arr = df[col].to_numpy()\n",
    "arr\n",
    "# Now save the numpy matrix to a numpy file"
   ]
  },
  {
   "cell_type": "code",
   "execution_count": 56,
   "id": "a8a88008",
   "metadata": {},
   "outputs": [
    {
     "data": {
      "text/html": [
       "<div>\n",
       "<style scoped>\n",
       "    .dataframe tbody tr th:only-of-type {\n",
       "        vertical-align: middle;\n",
       "    }\n",
       "\n",
       "    .dataframe tbody tr th {\n",
       "        vertical-align: top;\n",
       "    }\n",
       "\n",
       "    .dataframe thead th {\n",
       "        text-align: right;\n",
       "    }\n",
       "</style>\n",
       "<table border=\"1\" class=\"dataframe\">\n",
       "  <thead>\n",
       "    <tr style=\"text-align: right;\">\n",
       "      <th></th>\n",
       "      <th></th>\n",
       "      <th>sale</th>\n",
       "      <th>profit</th>\n",
       "    </tr>\n",
       "    <tr>\n",
       "      <th>year</th>\n",
       "      <th>month</th>\n",
       "      <th></th>\n",
       "      <th></th>\n",
       "    </tr>\n",
       "  </thead>\n",
       "  <tbody>\n",
       "    <tr>\n",
       "      <th>2013</th>\n",
       "      <th>1</th>\n",
       "      <td>55</td>\n",
       "      <td>5</td>\n",
       "    </tr>\n",
       "    <tr>\n",
       "      <th>2014</th>\n",
       "      <th>4</th>\n",
       "      <td>40</td>\n",
       "      <td>20</td>\n",
       "    </tr>\n",
       "    <tr>\n",
       "      <th>2013</th>\n",
       "      <th>7</th>\n",
       "      <td>84</td>\n",
       "      <td>14</td>\n",
       "    </tr>\n",
       "    <tr>\n",
       "      <th>2014</th>\n",
       "      <th>10</th>\n",
       "      <td>31</td>\n",
       "      <td>30</td>\n",
       "    </tr>\n",
       "  </tbody>\n",
       "</table>\n",
       "</div>"
      ],
      "text/plain": [
       "            sale  profit\n",
       "year month              \n",
       "2013 1        55       5\n",
       "2014 4        40      20\n",
       "2013 7        84      14\n",
       "2014 10       31      30"
      ]
     },
     "execution_count": 56,
     "metadata": {},
     "output_type": "execute_result"
    }
   ],
   "source": [
    "# We can create DF on the fly\n",
    "mem_df = pd.DataFrame({\n",
    "    'month': [1, 4, 7, 10],\n",
    "    'year': [2013, 2014, 2013, 2014],\n",
    "    'sale': [55, 40, 84, 31],\n",
    "    'profit': [5, 20, 14, 30]\n",
    "                      })\n",
    "mem_df.set_index(['year', 'month'], inplace=True)\n",
    "mem_df"
   ]
  },
  {
   "cell_type": "code",
   "execution_count": 57,
   "id": "191f7ef8",
   "metadata": {},
   "outputs": [
    {
     "data": {
      "text/html": [
       "<div>\n",
       "<style scoped>\n",
       "    .dataframe tbody tr th:only-of-type {\n",
       "        vertical-align: middle;\n",
       "    }\n",
       "\n",
       "    .dataframe tbody tr th {\n",
       "        vertical-align: top;\n",
       "    }\n",
       "\n",
       "    .dataframe thead th {\n",
       "        text-align: right;\n",
       "    }\n",
       "</style>\n",
       "<table border=\"1\" class=\"dataframe\">\n",
       "  <thead>\n",
       "    <tr style=\"text-align: right;\">\n",
       "      <th></th>\n",
       "      <th>sale</th>\n",
       "      <th>profit</th>\n",
       "    </tr>\n",
       "    <tr>\n",
       "      <th>month</th>\n",
       "      <th></th>\n",
       "      <th></th>\n",
       "    </tr>\n",
       "  </thead>\n",
       "  <tbody>\n",
       "    <tr>\n",
       "      <th>1</th>\n",
       "      <td>55</td>\n",
       "      <td>5</td>\n",
       "    </tr>\n",
       "    <tr>\n",
       "      <th>7</th>\n",
       "      <td>84</td>\n",
       "      <td>14</td>\n",
       "    </tr>\n",
       "  </tbody>\n",
       "</table>\n",
       "</div>"
      ],
      "text/plain": [
       "       sale  profit\n",
       "month              \n",
       "1        55       5\n",
       "7        84      14"
      ]
     },
     "execution_count": 57,
     "metadata": {},
     "output_type": "execute_result"
    }
   ],
   "source": [
    "mem_df.loc[2013]"
   ]
  },
  {
   "cell_type": "code",
   "execution_count": 58,
   "id": "435da31f",
   "metadata": {},
   "outputs": [
    {
     "data": {
      "text/plain": [
       "sale      84\n",
       "profit    14\n",
       "Name: (2013, 7), dtype: int64"
      ]
     },
     "execution_count": 58,
     "metadata": {},
     "output_type": "execute_result"
    }
   ],
   "source": [
    "mem_df.loc[2013, 7]"
   ]
  },
  {
   "cell_type": "code",
   "execution_count": 59,
   "id": "9e832bac",
   "metadata": {},
   "outputs": [],
   "source": [
    "# For data science, after the course you may learn more from youtube playists\n",
    "\n",
    "# Other features: df.drop to drop columns\n",
    "\n",
    "# import seaborn as sns\n",
    "# u can use sns for other plots\n",
    "# barplot, catplot, boxplot, heatmap for correlation"
   ]
  }
 ],
 "metadata": {
  "kernelspec": {
   "display_name": "Python 3 (ipykernel)",
   "language": "python",
   "name": "python3"
  },
  "language_info": {
   "codemirror_mode": {
    "name": "ipython",
    "version": 3
   },
   "file_extension": ".py",
   "mimetype": "text/x-python",
   "name": "python",
   "nbconvert_exporter": "python",
   "pygments_lexer": "ipython3",
   "version": "3.9.7"
  }
 },
 "nbformat": 4,
 "nbformat_minor": 5
}
